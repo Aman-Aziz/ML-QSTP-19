{
  "nbformat": 4,
  "nbformat_minor": 0,
  "metadata": {
    "kernelspec": {
      "display_name": "Python 3",
      "language": "python",
      "name": "python3"
    },
    "language_info": {
      "codemirror_mode": {
        "name": "ipython",
        "version": 3
      },
      "file_extension": ".py",
      "mimetype": "text/x-python",
      "name": "python",
      "nbconvert_exporter": "python",
      "pygments_lexer": "ipython3",
      "version": "3.6.8"
    },
    "colab": {
      "name": "Aman_Aziz_Task3.ipynb",
      "version": "0.3.2",
      "provenance": [],
      "collapsed_sections": [
        "XMBQOnTLWZbH"
      ]
    }
  },
  "cells": [
    {
      "cell_type": "markdown",
      "metadata": {
        "id": "GQttE9AhWZWL",
        "colab_type": "text"
      },
      "source": [
        "## PART 1"
      ]
    },
    {
      "cell_type": "markdown",
      "metadata": {
        "id": "odo3xGiwWZWO",
        "colab_type": "text"
      },
      "source": [
        "\n",
        "# Multi-class Classification and Neural Networks\n",
        "\n",
        "## Introduction\n",
        "\n",
        "\n",
        "In this exercise, you will implement one-vs-all logistic regression and neural networks to recognize handwritten digits. Before starting the programming exercise, we strongly recommend watching the video lectures and completing the review questions for the associated topics. \n",
        "\n",
        "All the information you need for solving this assignment is in this notebook, and all the code you will be implementing will take place within this notebook. \n",
        "\n",
        "Before we begin with the exercises, we need to import all libraries required for this programming exercise. Throughout the course, we will be using [`numpy`](http://www.numpy.org/) for all arrays and matrix operations, [`matplotlib`](https://matplotlib.org/) for plotting, and [`scipy`](https://docs.scipy.org/doc/scipy/reference/) for scientific and numerical computation functions and tools. "
      ]
    },
    {
      "cell_type": "code",
      "metadata": {
        "id": "Co1K6N4cWZWR",
        "colab_type": "code",
        "outputId": "fe912bcf-d5df-40a8-8bbd-f7436c224cf1",
        "colab": {
          "base_uri": "https://localhost:8080/",
          "height": 340
        }
      },
      "source": [
        "!pip install utils\n",
        "!pip install utils2\n",
        "!# used for manipulating directory paths\n",
        "import os\n",
        "\n",
        "# Scientific and vector computation for python\n",
        "import numpy as np\n",
        "\n",
        "# Plotting library\n",
        "from matplotlib import pyplot\n",
        "\n",
        "# Optimization module in scipy\n",
        "from scipy import optimize\n",
        "\n",
        "# will be used to load MATLAB mat datafile format\n",
        "from scipy.io import loadmat\n",
        "\n",
        "import utils\n",
        "import utils2\n",
        "\n",
        "\n",
        "\n",
        "# tells matplotlib to embed plots within the notebook\n",
        "%matplotlib inline"
      ],
      "execution_count": 0,
      "outputs": [
        {
          "output_type": "stream",
          "text": [
            "Collecting utils\n",
            "  Downloading https://files.pythonhosted.org/packages/9b/de/9ffaf89be661b32d1e0cff05e1af5e4fc2d608c47498975e94aca219aed4/utils-0.9.0-py2.py3-none-any.whl\n",
            "Installing collected packages: utils\n",
            "Successfully installed utils-0.9.0\n",
            "Collecting utils2\n",
            "  Downloading https://files.pythonhosted.org/packages/4a/45/a560ae745719bb6aa16c416643a5b20a73b379ec93e9b1718d11f07126aa/utils2-0.1.2.tar.gz\n",
            "Requirement already satisfied: six in /usr/local/lib/python3.6/dist-packages (from utils2) (1.12.0)\n",
            "Requirement already satisfied: python-dateutil in /usr/local/lib/python3.6/dist-packages (from utils2) (2.5.3)\n",
            "Requirement already satisfied: requests in /usr/local/lib/python3.6/dist-packages (from utils2) (2.21.0)\n",
            "Requirement already satisfied: chardet<3.1.0,>=3.0.2 in /usr/local/lib/python3.6/dist-packages (from requests->utils2) (3.0.4)\n",
            "Requirement already satisfied: certifi>=2017.4.17 in /usr/local/lib/python3.6/dist-packages (from requests->utils2) (2019.6.16)\n",
            "Requirement already satisfied: idna<2.9,>=2.5 in /usr/local/lib/python3.6/dist-packages (from requests->utils2) (2.8)\n",
            "Requirement already satisfied: urllib3<1.25,>=1.21.1 in /usr/local/lib/python3.6/dist-packages (from requests->utils2) (1.24.3)\n",
            "Building wheels for collected packages: utils2\n",
            "  Building wheel for utils2 (setup.py) ... \u001b[?25l\u001b[?25hdone\n",
            "  Stored in directory: /root/.cache/pip/wheels/5c/1c/15/f037ee255bad89d0652e4238714086f405990a6687d5148f99\n",
            "Successfully built utils2\n",
            "Installing collected packages: utils2\n",
            "Successfully installed utils2-0.1.2\n"
          ],
          "name": "stdout"
        }
      ]
    },
    {
      "cell_type": "markdown",
      "metadata": {
        "id": "WguVNtugWZWc",
        "colab_type": "text"
      },
      "source": [
        "## Submission and Grading\n",
        "\n",
        "\n",
        "After completing each part of the assignment, be sure to submit your solutions. The following is a breakdown of how each part of this exercise is scored.\n",
        "\n",
        "\n",
        "| Section | Part                                 | Submission function                   |  Points \n",
        "| :-      |:-                                    | :-                                    |  :-:    \n",
        "| 1       | [Regularized Logistic Regression](#section1)     | [`lrCostFunction`](#lrCostFunction)   | 30     \n",
        "| 2       | [One-vs-all classifier training](#section2)       | [`oneVsAll`](#oneVsAll)               | 20     \n",
        "| 3       | [One-vs-all classifier prediction](#section3)     | [`predictOneVsAll`](#predictOneVsAll) | 20     \n",
        "| 4       | [Neural Network Prediction Function](#section4)   | [`predict`](#predict)           | 30\n",
        "|         | Total Points                         |                                 | 100    \n",
        "\n",
        "\n"
      ]
    },
    {
      "cell_type": "code",
      "metadata": {
        "id": "CO-zT4fwWzpz",
        "colab_type": "code",
        "outputId": "64eb9dc7-0347-47fa-9f19-03bb609f2d31",
        "colab": {
          "base_uri": "https://localhost:8080/",
          "height": 68
        }
      },
      "source": [
        "!curl --header 'Host: doc-0k-bg-docs.googleusercontent.com' --header 'User-Agent: Mozilla/5.0 (Windows NT 6.3; Win64; x64) AppleWebKit/537.36 (KHTML, like Gecko) Chrome/75.0.3770.100 Safari/537.36' --header 'Accept: text/html,application/xhtml+xml,application/xml;q=0.9,image/webp,image/apng,*/*;q=0.8,application/signed-exchange;v=b3' --header 'Accept-Language: en-US,en;q=0.9' --header 'Referer: https://drive.google.com/drive/search?q=task3' --header 'Cookie: AUTH_g3p4hpsonf7hd4c0plj2k4rdt443r1ke_nonce=l8vl9fqobdrq6; NID=184=xwuG590nwqFLduJ6TMhuRd59cRFSDDpb7W-va_qyE3LYOPGL0V5ghbvww08tlWlM6b1U1xCZBMTaARVPu5oIrq98vhEsQzpvckpGgyIccut0QhDA7PeuULixOiaOVoa2rY6vkXjPpwID4366gktuGNXYM3Uq46uekzIIfvQpZso' --header 'Connection: keep-alive' 'https://doc-0k-bg-docs.googleusercontent.com/docs/securesc/8s7kednttieqmt0sp073f56or4m86ca5/uoeg60tkei6u2snrr5jdmk7ehfoonsjp/1564452000000/06327568161912759625/06327568161912759625/1Etle04IqMXnnp1zxTNuJMNYMzZkdEp04?e=download&nonce=l8vl9fqobdrq6&user=06327568161912759625&hash=ur8hcrknh5kjgl3dl9kghkcr1j2r18h2' -o 'Task3.zip' -L"
      ],
      "execution_count": 0,
      "outputs": [
        {
          "output_type": "stream",
          "text": [
            "  % Total    % Received % Xferd  Average Speed   Time    Time     Time  Current\n",
            "                                 Dload  Upload   Total   Spent    Left  Speed\n",
            "100 14.6M    0 14.6M    0     0  12.5M      0 --:--:--  0:00:01 --:--:-- 12.5M\n"
          ],
          "name": "stdout"
        }
      ]
    },
    {
      "cell_type": "code",
      "metadata": {
        "id": "IqbaClndW0AB",
        "colab_type": "code",
        "outputId": "04bf8687-3050-4e82-d6a8-3c162e20d004",
        "colab": {
          "base_uri": "https://localhost:8080/",
          "height": 255
        }
      },
      "source": [
        "!unzip Task3.zip"
      ],
      "execution_count": 0,
      "outputs": [
        {
          "output_type": "stream",
          "text": [
            "Archive:  Task3.zip\n",
            "   creating: Final_Assign/\n",
            "   creating: Final_Assign/Figures/\n",
            "  inflating: Final_Assign/Figures/neural_network.png  \n",
            "  inflating: Final_Assign/Figures/ex4-backpropagation.png  \n",
            "  inflating: Final_Assign/utils.py   \n",
            "   creating: Final_Assign/Data1/\n",
            "  inflating: Final_Assign/Data1/ex3weights.mat  \n",
            "  inflating: Final_Assign/Data1/ex3data1.mat  \n",
            "  inflating: Final_Assign/exercise3.ipynb  \n",
            "   creating: Final_Assign/Data2/\n",
            "  inflating: Final_Assign/Data2/ex4weights.mat  \n",
            "  inflating: Final_Assign/Data2/ex4data1.mat  \n",
            "  inflating: Final_Assign/utils2.py  \n"
          ],
          "name": "stdout"
        }
      ]
    },
    {
      "cell_type": "code",
      "metadata": {
        "id": "ydoSmLo9W0Q5",
        "colab_type": "code",
        "outputId": "25991ebe-38fb-4829-b6e6-24bcbffcbe82",
        "colab": {
          "base_uri": "https://localhost:8080/",
          "height": 34
        }
      },
      "source": [
        "cd Final_Assign"
      ],
      "execution_count": 0,
      "outputs": [
        {
          "output_type": "stream",
          "text": [
            "/content/Final_Assign\n"
          ],
          "name": "stdout"
        }
      ]
    },
    {
      "cell_type": "markdown",
      "metadata": {
        "id": "u54I3ukKWZWe",
        "colab_type": "text"
      },
      "source": [
        "## 1 Multi-class Classification\n",
        "\n",
        "For this exercise, you will use logistic regression and neural networks to recognize handwritten digits (from 0 to 9). Automated handwritten digit recognition is widely used today - from recognizing zip codes (postal codes)\n",
        "on mail envelopes to recognizing amounts written on bank checks. This exercise will show you how the methods you have learned can be used for this classification task.\n",
        "\n",
        "In the first part of the exercise, you will extend your previous implementation of logistic regression and apply it to one-vs-all classification.\n",
        "\n",
        "### 1.1 Dataset\n",
        "\n",
        "You are given a data set in `ex3data1.mat` that contains 5000 training examples of handwritten digits (This is a subset of the [MNIST](http://yann.lecun.com/exdb/mnist) handwritten digit dataset). The `.mat` format means that that the data has been saved in a native Octave/MATLAB matrix format, instead of a text (ASCII) format like a csv-file. We use the `.mat` format here because this is the dataset provided in the MATLAB version of this assignment. Fortunately, python provides mechanisms to load MATLAB native format using the `loadmat` function within the `scipy.io` module. This function returns a python dictionary with keys containing the variable names within the `.mat` file. \n",
        "\n",
        "There are 5000 training examples in `ex3data1.mat`, where each training example is a 20 pixel by 20 pixel grayscale image of the digit. Each pixel is represented by a floating point number indicating the grayscale intensity at that location. The 20 by 20 grid of pixels is “unrolled” into a 400-dimensional vector. Each of these training examples becomes a single row in our data matrix `X`. This gives us a 5000 by 400 matrix `X` where every row is a training example for a handwritten digit image.\n",
        "\n",
        "$$ X = \\begin{bmatrix} - \\: (x^{(1)})^T \\: - \\\\ -\\: (x^{(2)})^T \\:- \\\\ \\vdots \\\\ - \\: (x^{(m)})^T \\:-  \\end{bmatrix} $$\n",
        "\n",
        "The second part of the training set is a 5000-dimensional vector `y` that contains labels for the training set. \n",
        "We start the exercise by first loading the dataset. Execute the cell below, you do not need to write any code here."
      ]
    },
    {
      "cell_type": "code",
      "metadata": {
        "id": "arkhmDBpWZWg",
        "colab_type": "code",
        "colab": {}
      },
      "source": [
        "# 20x20 Input Images of Digits\n",
        "input_layer_size  = 400\n",
        "\n",
        "# 10 labels, from 1 to 10 (note that we have mapped \"0\" to label 10)\n",
        "num_labels = 10\n",
        "\n",
        "#  training data stored in arrays X, y\n",
        "data = loadmat(os.path.join('Data1', 'ex3data1.mat'))\n",
        "X, y = data['X'], data['y'].ravel()\n",
        "\n",
        "# set the zero digit to 0, rather than its mapped 10 in this dataset\n",
        "# This is an artifact due to the fact that this dataset was used in \n",
        "# MATLAB where there is no index 0\n",
        "y[y == 10] = 0\n",
        "\n",
        "m = y.size"
      ],
      "execution_count": 0,
      "outputs": []
    },
    {
      "cell_type": "code",
      "metadata": {
        "id": "wlGpoMJOXuOR",
        "colab_type": "code",
        "colab": {}
      },
      "source": [
        "import sys\n",
        "import numpy as np\n",
        "from matplotlib import pyplot\n",
        "\n",
        "sys.path.append('..')\n",
        "#from submission import SubmissionBase\n",
        "\n",
        "\n",
        "def displayData(X, example_width=None, figsize=(10, 10)):\n",
        "    \"\"\"\n",
        "    Displays 2D data stored in X in a nice grid.\n",
        "    \"\"\"\n",
        "    # Compute rows, cols\n",
        "    if X.ndim == 2:\n",
        "        m, n = X.shape\n",
        "    elif X.ndim == 1:\n",
        "        n = X.size\n",
        "        m = 1\n",
        "        X = X[None]  # Promote to a 2 dimensional array\n",
        "    else:\n",
        "        raise IndexError('Input X should be 1 or 2 dimensional.')\n",
        "\n",
        "    example_width = example_width or int(np.round(np.sqrt(n)))\n",
        "    example_height = n / example_width\n",
        "\n",
        "    # Compute number of items to display\n",
        "    display_rows = int(np.floor(np.sqrt(m)))\n",
        "    display_cols = int(np.ceil(m / display_rows))\n",
        "\n",
        "    fig, ax_array = pyplot.subplots(display_rows, display_cols, figsize=figsize)\n",
        "    fig.subplots_adjust(wspace=0.025, hspace=0.025)\n",
        "\n",
        "    ax_array = [ax_array] if m == 1 else ax_array.ravel()\n",
        "\n",
        "    for i, ax in enumerate(ax_array):\n",
        "        ax.imshow(X[i].reshape(example_width, example_width, order='F'),\n",
        "                  cmap='Greys', extent=[0, 1, 0, 1])\n",
        "        ax.axis('off')\n",
        "\n",
        "\n",
        "def sigmoid(z):\n",
        "    \"\"\"\n",
        "    Computes the sigmoid of z.\n",
        "    \"\"\"\n",
        "    return 1.0 / (1.0 + np.exp(-z))\n",
        "\n",
        "\n"
      ],
      "execution_count": 0,
      "outputs": []
    },
    {
      "cell_type": "markdown",
      "metadata": {
        "id": "IdYDlQ5dWZWn",
        "colab_type": "text"
      },
      "source": [
        "### 1.2 Visualizing the data\n",
        "\n",
        "You will begin by visualizing a subset of the training set. In the following cell, the code randomly selects selects 100 rows from `X` and passes those rows to the `displayData` function. This function maps each row to a 20 pixel by 20 pixel grayscale image and displays the images together. We have provided the `displayData` function in the file `utils.py`. You are encouraged to examine the code to see how it works. Run the following cell to visualize the data."
      ]
    },
    {
      "cell_type": "code",
      "metadata": {
        "id": "8Zvs0OOMWZWp",
        "colab_type": "code",
        "outputId": "e00e478e-6ac7-42da-8173-4273fcd42cc2",
        "colab": {
          "base_uri": "https://localhost:8080/",
          "height": 596
        }
      },
      "source": [
        "# Randomly select 100 data points to display\n",
        "rand_indices = np.random.choice(m, 100, replace=False)\n",
        "sel = X[rand_indices, :]\n",
        "\n",
        "displayData(sel)"
      ],
      "execution_count": 0,
      "outputs": [
        {
          "output_type": "display_data",
          "data": {
            "image/png": "[encoded data removed]",
            "text/plain": [
              "<Figure size 720x720 with 100 Axes>"
            ]
          },
          "metadata": {
            "tags": []
          }
        }
      ]
    },
    {
      "cell_type": "markdown",
      "metadata": {
        "collapsed": true,
        "id": "7RQ3d4UzWZW5",
        "colab_type": "text"
      },
      "source": [
        "### 1.3 Vectorizing Logistic Regression\n",
        "\n",
        "You will be using multiple one-vs-all logistic regression models to build a multi-class classifier. Since there are 10 classes, you will need to train 10 separate logistic regression classifiers. To make this training efficient, it is important to ensure that your code is well vectorized. In this section, you will implement a vectorized version of logistic regression that does not employ any `for` loops. You can use your code in the previous exercise as a starting point for this exercise. \n",
        "\n",
        "To test your vectorized logistic regression, we will use custom data as defined in the following cell."
      ]
    },
    {
      "cell_type": "code",
      "metadata": {
        "id": "kZn5DW-_WZW8",
        "colab_type": "code",
        "colab": {}
      },
      "source": [
        "# test values for the parameters theta\n",
        "theta_t = np.array([-2, -1, 1, 2], dtype=float)\n",
        "\n",
        "# test values for the inputs\n",
        "X_t = np.concatenate([np.ones((5, 1)), np.arange(1, 16).reshape(5, 3, order='F')/10.0], axis=1)\n",
        "\n",
        "# test values for the labels\n",
        "y_t = np.array([1, 0, 1, 0, 1])\n",
        "\n",
        "# test value for the regularization parameter\n",
        "lambda_t = 3"
      ],
      "execution_count": 0,
      "outputs": []
    },
    {
      "cell_type": "markdown",
      "metadata": {
        "id": "sHaTQehhWZXC",
        "colab_type": "text"
      },
      "source": [
        "<a id=\"section1\"></a>\n",
        "#### 1.3.1 Vectorizing the cost function \n",
        "\n",
        "We will begin by writing a vectorized version of the cost function. Recall that in (unregularized) logistic regression, the cost function is\n",
        "\n",
        "$$ J(\\theta) = \\frac{1}{m} \\sum_{i=1}^m \\left[ -y^{(i)} \\log \\left( h_\\theta\\left( x^{(i)} \\right) \\right) - \\left(1 - y^{(i)} \\right) \\log \\left(1 - h_\\theta \\left( x^{(i)} \\right) \\right) \\right] $$\n",
        "\n",
        "To compute each element in the summation, we have to compute $h_\\theta(x^{(i)})$ for every example $i$, where $h_\\theta(x^{(i)}) = g(\\theta^T x^{(i)})$ and $g(z) = \\frac{1}{1+e^{-z}}$ is the sigmoid function. It turns out that we can compute this quickly for all our examples by using matrix multiplication. Let us define $X$ and $\\theta$ as\n",
        "\n",
        "$$ X = \\begin{bmatrix} - \\left( x^{(1)} \\right)^T - \\\\ - \\left( x^{(2)} \\right)^T - \\\\ \\vdots \\\\ - \\left( x^{(m)} \\right)^T - \\end{bmatrix} \\qquad \\text{and} \\qquad \\theta = \\begin{bmatrix} \\theta_0 \\\\ \\theta_1 \\\\ \\vdots \\\\ \\theta_n \\end{bmatrix} $$\n",
        "\n",
        "Then, by computing the matrix product $X\\theta$, we have: \n",
        "\n",
        "$$ X\\theta = \\begin{bmatrix} - \\left( x^{(1)} \\right)^T\\theta - \\\\ - \\left( x^{(2)} \\right)^T\\theta - \\\\ \\vdots \\\\ - \\left( x^{(m)} \\right)^T\\theta - \\end{bmatrix} = \\begin{bmatrix} - \\theta^T x^{(1)}  - \\\\ - \\theta^T x^{(2)} - \\\\ \\vdots \\\\ - \\theta^T x^{(m)}  - \\end{bmatrix} $$\n",
        "\n",
        "In the last equality, we used the fact that $a^Tb = b^Ta$ if $a$ and $b$ are vectors. This allows us to compute the products $\\theta^T x^{(i)}$ for all our examples $i$ in one line of code.\n",
        "\n",
        "#### 1.3.2 Vectorizing the gradient\n",
        "\n",
        "Recall that the gradient of the (unregularized) logistic regression cost is a vector where the $j^{th}$ element is defined as\n",
        "\n",
        "$$ \\frac{\\partial J }{\\partial \\theta_j} = \\frac{1}{m} \\sum_{i=1}^m \\left( \\left( h_\\theta\\left(x^{(i)}\\right) - y^{(i)} \\right)x_j^{(i)} \\right) $$\n",
        "\n",
        "To vectorize this operation over the dataset, we start by writing out all the partial derivatives explicitly for all $\\theta_j$,\n",
        "\n",
        "$$\n",
        "\\begin{align*}\n",
        "\\begin{bmatrix} \n",
        "\\frac{\\partial J}{\\partial \\theta_0} \\\\\n",
        "\\frac{\\partial J}{\\partial \\theta_1} \\\\\n",
        "\\frac{\\partial J}{\\partial \\theta_2} \\\\\n",
        "\\vdots \\\\\n",
        "\\frac{\\partial J}{\\partial \\theta_n}\n",
        "\\end{bmatrix} = &\n",
        "\\frac{1}{m} \\begin{bmatrix}\n",
        "\\sum_{i=1}^m \\left( \\left(h_\\theta\\left(x^{(i)}\\right) - y^{(i)} \\right)x_0^{(i)}\\right) \\\\\n",
        "\\sum_{i=1}^m \\left( \\left(h_\\theta\\left(x^{(i)}\\right) - y^{(i)} \\right)x_1^{(i)}\\right) \\\\\n",
        "\\sum_{i=1}^m \\left( \\left(h_\\theta\\left(x^{(i)}\\right) - y^{(i)} \\right)x_2^{(i)}\\right) \\\\\n",
        "\\vdots \\\\\n",
        "\\sum_{i=1}^m \\left( \\left(h_\\theta\\left(x^{(i)}\\right) - y^{(i)} \\right)x_n^{(i)}\\right) \\\\\n",
        "\\end{bmatrix} \\\\\n",
        "= & \\frac{1}{m} \\sum_{i=1}^m \\left( \\left(h_\\theta\\left(x^{(i)}\\right) - y^{(i)} \\right)x^{(i)}\\right) \\\\\n",
        "= & \\frac{1}{m} X^T \\left( h_\\theta(x) - y\\right)\n",
        "\\end{align*}\n",
        "$$\n",
        "\n",
        "where\n",
        "\n",
        "$$  h_\\theta(x) - y = \n",
        "\\begin{bmatrix}\n",
        "h_\\theta\\left(x^{(1)}\\right) - y^{(1)} \\\\\n",
        "h_\\theta\\left(x^{(2)}\\right) - y^{(2)} \\\\\n",
        "\\vdots \\\\\n",
        "h_\\theta\\left(x^{(m)}\\right) - y^{(m)} \n",
        "\\end{bmatrix} $$\n",
        "\n",
        "Note that $x^{(i)}$ is a vector, while $h_\\theta\\left(x^{(i)}\\right) - y^{(i)}$  is a scalar (single number).\n",
        "To understand the last step of the derivation, let $\\beta_i = (h_\\theta\\left(x^{(m)}\\right) - y^{(m)})$ and\n",
        "observe that:\n",
        "\n",
        "$$ \\sum_i \\beta_ix^{(i)} = \\begin{bmatrix} \n",
        "| & | & & | \\\\\n",
        "x^{(1)} & x^{(2)} & \\cdots & x^{(m)} \\\\\n",
        "| & | & & | \n",
        "\\end{bmatrix}\n",
        "\\begin{bmatrix}\n",
        "\\beta_1 \\\\\n",
        "\\beta_2 \\\\\n",
        "\\vdots \\\\\n",
        "\\beta_m\n",
        "\\end{bmatrix} = x^T \\beta\n",
        "$$\n",
        "\n",
        "where the values $\\beta_i = \\left( h_\\theta(x^{(i)} - y^{(i)} \\right)$.\n",
        "\n",
        "The expression above allows us to compute all the partial derivatives\n",
        "without any loops. If you are comfortable with linear algebra, we encourage you to work through the matrix multiplications above to convince yourself that the vectorized version does the same computations. \n",
        "\n",
        "Your job is to write the unregularized cost function `lrCostFunction` which returns both the cost function $J(\\theta)$ and its gradient $\\frac{\\partial J}{\\partial \\theta}$. Your implementation should use the strategy we presented above to calculate $\\theta^T x^{(i)}$. You should also use a vectorized approach for the rest of the cost function. A fully vectorized version of `lrCostFunction` should not contain any loops.\n",
        "\n",
        "<div class=\"alert alert-box alert-warning\">\n",
        "**Debugging Tip:** Vectorizing code can sometimes be tricky. One common strategy for debugging is to print out the sizes of the matrices you are working with using the `shape` property of `numpy` arrays. For example, given a data matrix $X$ of size $100 \\times 20$ (100 examples, 20 features) and $\\theta$, a vector with size $20$, you can observe that `np.dot(X, theta)` is a valid multiplication operation, while `np.dot(theta, X)` is not. Furthermore, if you have a non-vectorized version of your code, you can compare the output of your vectorized code and non-vectorized code to make sure that they produce the same outputs.\n",
        "</div>\n",
        "<a id=\"lrCostFunction\"></a>"
      ]
    },
    {
      "cell_type": "code",
      "metadata": {
        "id": "JSZ2MSCfWZXE",
        "colab_type": "code",
        "colab": {}
      },
      "source": [
        "def lrCostFunction(theta, X, y, lambda_):\n",
        "    \"\"\"\n",
        "    Computes the cost of using theta as the parameter for regularized\n",
        "    logistic regression and the gradient of the cost w.r.t. to the parameters.\n",
        "    \n",
        "    Parameters\n",
        "    ----------\n",
        "    theta : array_like\n",
        "        Logistic regression parameters. A vector with shape (n, ). n is \n",
        "        the number of features including any intercept.  \n",
        "    \n",
        "    X : array_like\n",
        "        The data set with shape (m x n). m is the number of examples, and\n",
        "        n is the number of features (including intercept).\n",
        "    \n",
        "    y : array_like\n",
        "        The data labels. A vector with shape (m, ).\n",
        "    \n",
        "    lambda_ : float\n",
        "        The regularization parameter. \n",
        "    \n",
        "    Returns\n",
        "    -------\n",
        "    J : float\n",
        "        The computed value for the regularized cost function. \n",
        "    \n",
        "    grad : array_like\n",
        "        A vector of shape (n, ) which is the gradient of the cost\n",
        "        function with respect to theta, at the current values of theta.\n",
        "    \n",
        "    Instructions\n",
        "    ------------\n",
        "    Compute the cost of a particular choice of theta. You should set J to the cost.\n",
        "    Compute the partial derivatives and set grad to the partial\n",
        "    derivatives of the cost w.r.t. each parameter in theta\n",
        "    \n",
        "    Hint 1\n",
        "    ------\n",
        "    The computation of the cost function and gradients can be efficiently\n",
        "    vectorized. For example, consider the computation\n",
        "    \n",
        "        sigmoid(X * theta)\n",
        "    \n",
        "    Each row of the resulting matrix will contain the value of the prediction\n",
        "    for that example. You can make use of this to vectorize the cost function\n",
        "    and gradient computations. \n",
        "    \n",
        "    Hint 2\n",
        "    ------\n",
        "    When computing the gradient of the regularized cost function, there are\n",
        "    many possible vectorized solutions, but one solution looks like:\n",
        "    \n",
        "        grad = (unregularized gradient for logistic regression)\n",
        "        temp = theta \n",
        "        temp[0] = 0   # because we don't add anything for j = 0\n",
        "        grad = grad + YOUR_CODE_HERE (using the temp variable)\n",
        "    \n",
        "    Hint 3\n",
        "    ------\n",
        "    We have provided the implementatation of the sigmoid function within \n",
        "    the file `utils.py`. At the start of the notebook, we imported this file\n",
        "    as a module. Thus to access the sigmoid function within that file, you can\n",
        "    do the following: `utils.sigmoid(z)`.\n",
        "    \n",
        "    \"\"\"\n",
        "    #Initialize some useful values\n",
        "    m = y.size\n",
        "    theta = theta[ :, None]\n",
        "    y = y[ :,None]\n",
        "    grad = np.zeros(theta.shape)\n",
        "    \n",
        "    # convert labels to ints if their type is bool\n",
        "    if y.dtype == bool:\n",
        "        y = y.astype(int)\n",
        "    \n",
        "    # You need to return the following variables correctly\n",
        "    J = 0\n",
        "    m,n = X.shape\n",
        "    grad = np.zeros(theta.shape)\n",
        "    \n",
        "    # ====================== YOUR CODE HERE ======================\n",
        "    if((y.shape)==(m,1)):\n",
        "      pass\n",
        "    else:\n",
        "      y = y[ :,None]\n",
        "    if((theta.shape)==(n,1)):\n",
        "      pass\n",
        "    else:\n",
        "      theta = theta[ :,None]\n",
        "      \n",
        "    predictions = sigmoid(np.dot(X,theta))\n",
        "    error = -y*np.log(predictions) - (1-y)*np.log(1-predictions)\n",
        "    J = sum(error)/m\n",
        "    theta_dash = theta[1:]\n",
        "    J = J+ ((theta_dash**2).sum())*lambda_/(2*m)\n",
        "    \n",
        "    \n",
        "    h = sigmoid(np.dot(X,theta))\n",
        "    k = h-y\n",
        "    k = k.transpose()\n",
        "    grad = np.dot(k,X)\n",
        "    grad = grad/m\n",
        "    grad = grad.transpose()\n",
        "    grad = grad + (lambda_/m)*theta\n",
        "    \n",
        "    grad[0] = grad[0] - (lambda_/m)*theta[0]\n",
        "    \n",
        "    J = (float(np.asarray(J)))\n",
        "    grad = grad[ :,None]\n",
        "    grad = grad.T\n",
        "    # =============================================================\n",
        "    return J,grad"
      ],
      "execution_count": 0,
      "outputs": []
    },
    {
      "cell_type": "markdown",
      "metadata": {
        "id": "jUSTxVZ_WZXM",
        "colab_type": "text"
      },
      "source": [
        "#### 1.3.3 Vectorizing regularized logistic regression\n",
        "\n",
        "After you have implemented vectorization for logistic regression, you will now\n",
        "add regularization to the cost function. Recall that for regularized logistic\n",
        "regression, the cost function is defined as\n",
        "\n",
        "$$ J(\\theta) = \\frac{1}{m} \\sum_{i=1}^m \\left[ -y^{(i)} \\log \\left(h_\\theta\\left(x^{(i)} \\right)\\right) - \\left( 1 - y^{(i)} \\right) \\log\\left(1 - h_\\theta \\left(x^{(i)} \\right) \\right) \\right] + \\frac{\\lambda}{2m} \\sum_{j=1}^n \\theta_j^2 $$\n",
        "\n",
        "Note that you should not be regularizing $\\theta_0$ which is used for the bias term.\n",
        "Correspondingly, the partial derivative of regularized logistic regression cost for $\\theta_j$ is defined as\n",
        "\n",
        "$$\n",
        "\\begin{align*}\n",
        "& \\frac{\\partial J(\\theta)}{\\partial \\theta_0} = \\frac{1}{m} \\sum_{i=1}^m \\left( h_\\theta\\left( x^{(i)} \\right) - y^{(i)} \\right) x_j^{(i)}  & \\text{for } j = 0 \\\\\n",
        "& \\frac{\\partial J(\\theta)}{\\partial \\theta_0} = \\left( \\frac{1}{m} \\sum_{i=1}^m \\left( h_\\theta\\left( x^{(i)} \\right) - y^{(i)} \\right) x_j^{(i)} \\right) + \\frac{\\lambda}{m} \\theta_j & \\text{for } j  \\ge 1\n",
        "\\end{align*}\n",
        "$$\n",
        "\n",
        "Now modify your code in lrCostFunction in the [**previous cell**](#lrCostFunction) to account for regularization. Once again, you should not put any loops into your code.\n",
        "\n",
        "<div class=\"alert alert-box alert-warning\">\n",
        "**python/numpy Tip:** When implementing the vectorization for regularized logistic regression, you might often want to only sum and update certain elements of $\\theta$. In `numpy`, you can index into the matrices to access and update only certain elements. For example, A[:, 3:5]\n",
        "= B[:, 1:3] will replaces the columns with index 3 to 5 of A with the columns with index 1 to 3 from B. To select columns (or rows) until the end of the matrix, you can leave the right hand side of the colon blank. For example, A[:, 2:] will only return elements from the $3^{rd}$ to last columns of $A$. If you leave the left hand size of the colon blank, you will select elements from the beginning of the matrix. For example, A[:, :2] selects the first two columns, and is equivalent to A[:, 0:2]. In addition, you can use negative indices to index arrays from the end. Thus, A[:, :-1] selects all columns of A except the last column, and A[:, -5:] selects the $5^{th}$ column from the end to the last column. Thus, you could use this together with the sum and power ($^{**}$) operations to compute the sum of only the elements you are interested in (e.g., `np.sum(z[1:]**2)`). In the starter code, `lrCostFunction`, we have also provided hints on yet another possible method computing the regularized gradient.\n",
        "</div>\n",
        "\n",
        "Once you finished your implementation, you can call the function `lrCostFunction` to test your solution using the following cell:"
      ]
    },
    {
      "cell_type": "code",
      "metadata": {
        "id": "skN-_I5xWZXO",
        "colab_type": "code",
        "outputId": "b11e5e09-a2bf-403d-918a-6f692404a8f2",
        "colab": {
          "base_uri": "https://localhost:8080/",
          "height": 136
        }
      },
      "source": [
        "J, grad = lrCostFunction(theta_t, X_t, y_t, lambda_t)\n",
        "\n",
        "\n",
        "print('Cost         : {:.6f}'.format(J))\n",
        "\n",
        "print('Expected cost: 2.534819')\n",
        "print('-----------------------')\n",
        "print('Gradients:')\n",
        "\n",
        "import numpy as np\n",
        "np.set_printoptions(precision=6)\n",
        "\n",
        "print(grad)\n",
        "\n",
        "print('Expected gradients:')\n",
        "print(' [0.146561, -0.548558, 0.724722, 1.398003]');"
      ],
      "execution_count": 0,
      "outputs": [
        {
          "output_type": "stream",
          "text": [
            "Cost         : 2.534819\n",
            "Expected cost: 2.534819\n",
            "-----------------------\n",
            "Gradients:\n",
            "[[[ 0.146561 -0.548558  0.724722  1.398003]]]\n",
            "Expected gradients:\n",
            " [0.146561, -0.548558, 0.724722, 1.398003]\n"
          ],
          "name": "stdout"
        }
      ]
    },
    {
      "cell_type": "markdown",
      "metadata": {
        "id": "LGLeVxHDWZXU",
        "colab_type": "text"
      },
      "source": [
        "After completing a part of the exercise, you can submit your solutions for grading by first adding the function you modified to the submission object, and then sending your function to Coursera for grading. \n",
        "\n",
        "The submission script will prompt you for your login e-mail and submission token. You can obtain a submission token from the web page for the assignment. You are allowed to submit your solutions multiple times, and we will take only the highest score into consideration.\n",
        "\n",
        "*Execute the following cell to grade your solution to the first part of this exercise.*"
      ]
    },
    {
      "cell_type": "code",
      "metadata": {
        "id": "qS2jgOIaWZXY",
        "colab_type": "code",
        "outputId": "7876e159-fa89-472d-a41a-97da2fbaa610",
        "colab": {
          "base_uri": "https://localhost:8080/",
          "height": 34
        }
      },
      "source": [
        "\n",
        "allow = 0.5\n",
        "if(J - 2.534819 > allow):\n",
        "    print(\"Your error is too much. Consider checking your code\")\n",
        "else:\n",
        "    print(\"You are good to go\")\n",
        "\n"
      ],
      "execution_count": 0,
      "outputs": [
        {
          "output_type": "stream",
          "text": [
            "You are good to go\n"
          ],
          "name": "stdout"
        }
      ]
    },
    {
      "cell_type": "markdown",
      "metadata": {
        "id": "dbaCVhgZWZXh",
        "colab_type": "text"
      },
      "source": [
        "<a id=\"section2\"></a>\n",
        "### 1.4 One-vs-all Classification\n",
        "\n",
        "In this part of the exercise, you will implement one-vs-all classification by training multiple regularized logistic regression classifiers, one for each of the $K$ classes in our dataset. In the handwritten digits dataset, $K = 10$, but your code should work for any value of $K$. \n",
        "\n",
        "You should now complete the code for the function `oneVsAll` below, to train one classifier for each class. In particular, your code should return all the classifier parameters in a matrix $\\theta \\in \\mathbb{R}^{K \\times (N +1)}$, where each row of $\\theta$ corresponds to the learned logistic regression parameters for one class. You can do this with a “for”-loop from $0$ to $K-1$, training each classifier independently.\n",
        "\n",
        "Note that the `y` argument to this function is a vector of labels from 0 to 9. When training the classifier for class $k \\in \\{0, ..., K-1\\}$, you will want a K-dimensional vector of labels $y$, where $y_j \\in 0, 1$ indicates whether the $j^{th}$ training instance belongs to class $k$ $(y_j = 1)$, or if it belongs to a different\n",
        "class $(y_j = 0)$. You may find logical arrays helpful for this task. \n",
        "\n",
        "Furthermore, you will be using scipy's `optimize.minimize` for this exercise. \n",
        "<a id=\"oneVsAll\"></a>"
      ]
    },
    {
      "cell_type": "code",
      "metadata": {
        "id": "SdUX22u4WZXj",
        "colab_type": "code",
        "colab": {}
      },
      "source": [
        "def oneVsAll(X, y, num_labels, lambda_):\n",
        "    \"\"\"\n",
        "    Trains num_labels logistic regression classifiers and returns\n",
        "    each of these classifiers in a matrix all_theta, where the i-th\n",
        "    row of all_theta corresponds to the classifier for label i.\n",
        "    \n",
        "    Parameters\n",
        "    ----------\n",
        "    X : array_like\n",
        "        The input dataset of shape (m x n). m is the number of \n",
        "        data points, and n is the number of features. Note that we \n",
        "        do not assume that the intercept term (or bias) is in X, however\n",
        "        we provide the code below to add the bias term to X. \n",
        "    \n",
        "    y : array_like\n",
        "        The data labels. A vector of shape (m, ).\n",
        "    \n",
        "    num_labels : int\n",
        "        Number of possible labels.\n",
        "    \n",
        "    lambda_ : float\n",
        "        The logistic regularization parameter.\n",
        "    \n",
        "    Returns\n",
        "    -------\n",
        "    all_theta : array_like\n",
        "        The trained parameters for logistic regression for each class.\n",
        "        This is a matrix of shape (K x n+1) where K is number of classes\n",
        "        (ie. `numlabels`) and n is number of features without the bias.\n",
        "    \n",
        "    Instructions\n",
        "    ------------\n",
        "    You should complete the following code to train `num_labels`\n",
        "    logistic regression classifiers with regularization parameter `lambda_`. \n",
        "    \n",
        "    Hint\n",
        "    ----\n",
        "    You can use y == c to obtain a vector of 1's and 0's that tell you\n",
        "    whether the ground truth is true/false for this class.\n",
        "    \n",
        "    Note\n",
        "    ----\n",
        "    For this assignment, we recommend using `scipy.optimize.minimize(method='CG')`\n",
        "    to optimize the cost function. It is okay to use a for-loop \n",
        "    (`for c in range(num_labels):`) to loop over the different classes.\n",
        "    \n",
        "    Example Code\n",
        "    ------------\n",
        "    \n",
        "        # Set Initial theta\n",
        "        initial_theta = np.zeros(n + 1)\n",
        "      \n",
        "        # Set options for minimize\n",
        "        options = {'maxiter': 50}\n",
        "    \n",
        "        # Run minimize to obtain the optimal theta. This function will \n",
        "        # return a class object where theta is in `res.x` and cost in `res.fun`\n",
        "        res = optimize.minimize(lrCostFunction, \n",
        "                                initial_theta, \n",
        "                                (X, (y == c), lambda_), \n",
        "                                jac=True, \n",
        "                                method='TNC',\n",
        "                                options=options) \n",
        "    \"\"\"\n",
        "    # Some useful variables\n",
        "    m, n = X.shape\n",
        "    \n",
        "    \n",
        "    # You need to return the following variables correctly \n",
        "    all_theta = np.zeros((num_labels, n + 1))\n",
        "    K, z = all_theta.shape\n",
        "    \n",
        "    #K =10, n = no. of features, m = no. of datapoints\n",
        "    \n",
        "    \n",
        "    # Add ones to the X data matrix\n",
        "    X = np.concatenate([np.ones((m, 1)), X], axis=1)\n",
        "\n",
        "    # ====================== YOUR CODE HERE ======================\n",
        "    for c in range(num_labels):\n",
        "        # Set Initial theta\n",
        "        initial_theta = np.zeros(n + 1)\n",
        "      \n",
        "        # Set options for minimize\n",
        "        options = {'maxiter': 50}\n",
        "    \n",
        "        # Run minimize to obtain the optimal theta. This function will \n",
        "        # return a class object where theta is in `res.x` and cost in `res.fun`\n",
        "        res = optimize.minimize(lrCostFunction, \n",
        "                                initial_theta, \n",
        "                                (X, (y == c), lambda_), \n",
        "                                jac=True, \n",
        "                                method='TNC',\n",
        "                                options=options) \n",
        "        \n",
        "       \n",
        "        for i in range(401):\n",
        "          all_theta[c][i] =  res.x[i]\n",
        "        \n",
        "      \n",
        "    # ============================================================\n",
        "    return all_theta"
      ],
      "execution_count": 0,
      "outputs": []
    },
    {
      "cell_type": "markdown",
      "metadata": {
        "id": "k2qTe8xGWZXr",
        "colab_type": "text"
      },
      "source": [
        "After you have completed the code for `oneVsAll`, the following cell will use your implementation to train a multi-class classifier. "
      ]
    },
    {
      "cell_type": "code",
      "metadata": {
        "id": "6lvznSyoWZXt",
        "colab_type": "code",
        "outputId": "3aac949e-aacc-4334-9f19-e36f9230e4ae",
        "colab": {
          "base_uri": "https://localhost:8080/",
          "height": 34
        }
      },
      "source": [
        "lambda_ = 0.1\n",
        "all_theta = oneVsAll(X, y, num_labels, lambda_)\n",
        "print(all_theta.shape)"
      ],
      "execution_count": 0,
      "outputs": [
        {
          "output_type": "stream",
          "text": [
            "(10, 401)\n"
          ],
          "name": "stdout"
        }
      ]
    },
    {
      "cell_type": "markdown",
      "metadata": {
        "id": "od7shVKmWZXz",
        "colab_type": "text"
      },
      "source": [
        "*You should now submit your solutions.*"
      ]
    },
    {
      "cell_type": "code",
      "metadata": {
        "id": "WBh7jzHeWZX1",
        "colab_type": "code",
        "colab": {}
      },
      "source": [
        ""
      ],
      "execution_count": 0,
      "outputs": []
    },
    {
      "cell_type": "markdown",
      "metadata": {
        "id": "h_OYR9BbWZX8",
        "colab_type": "text"
      },
      "source": [
        "<a id=\"section3\"></a>\n",
        "#### 1.4.1 One-vs-all Prediction\n",
        "\n",
        "After training your one-vs-all classifier, you can now use it to predict the digit contained in a given image. For each input, you should compute the “probability” that it belongs to each class using the trained logistic regression classifiers. Your one-vs-all prediction function will pick the class for which the corresponding logistic regression classifier outputs the highest probability and return the class label (0, 1, ..., K-1) as the prediction for the input example. You should now complete the code in the function `predictOneVsAll` to use the one-vs-all classifier for making predictions. \n",
        "<a id=\"predictOneVsAll\"></a>"
      ]
    },
    {
      "cell_type": "code",
      "metadata": {
        "id": "SEXaBsY-WZX_",
        "colab_type": "code",
        "colab": {}
      },
      "source": [
        "def predictOneVsAll(all_theta, X):\n",
        "    \"\"\"\n",
        "    Return a vector of predictions for each example in the matrix X. \n",
        "    Note that X contains the examples in rows. all_theta is a matrix where\n",
        "    the i-th row is a trained logistic regression theta vector for the \n",
        "    i-th class. You should set p to a vector of values from 0..K-1 \n",
        "    (e.g., p = [0, 2, 0, 1] predicts classes 0, 2, 0, 1 for 4 examples) .\n",
        "    \n",
        "    Parameters\n",
        "    ----------\n",
        "    all_theta : array_like\n",
        "        The trained parameters for logistic regression for each class.\n",
        "        This is a matrix of shape (K x n+1) where K is number of classes\n",
        "        and n is number of features without the bias.\n",
        "    \n",
        "    X : array_like\n",
        "        Data points to predict their labels. This is a matrix of shape \n",
        "        (m x n) where m is number of data points to predict, and n is number \n",
        "        of features without the bias term. Note we add the bias term for X in \n",
        "        this function. \n",
        "    \n",
        "    Returns\n",
        "    -------\n",
        "    p : array_like\n",
        "        The predictions for each data point in X. This is a vector of shape (m, ).\n",
        "    \n",
        "    Instructions\n",
        "    ------------\n",
        "    Complete the following code to make predictions using your learned logistic\n",
        "    regression parameters (one-vs-all). You should set p to a vector of predictions\n",
        "    (from 0 to num_labels-1).\n",
        "    \n",
        "    Hint\n",
        "    ----\n",
        "    This code can be done all vectorized using the numpy argmax function.\n",
        "    In particular, the argmax function returns the index of the max element,\n",
        "    for more information see '?np.argmax' or search online. If your examples\n",
        "    are in rows, then, you can use np.argmax(A, axis=1) to obtain the index \n",
        "    of the max for each row.\n",
        "    \"\"\"\n",
        "    m = X.shape[0];\n",
        "    num_labels = all_theta.shape[0]\n",
        "    m, n = X.shape\n",
        "\n",
        "    # You need to return the following variables correctly \n",
        "    p = np.zeros(m)\n",
        "\n",
        "    # Add ones to the X data matrix\n",
        "    X = np.concatenate([np.ones((m, 1)), X], axis=1)\n",
        "\n",
        "    # ====================== YOUR CODE HERE ======================\n",
        "    lambda_ = 0.1\n",
        "    \n",
        "    for c in range(num_labels):\n",
        "        # Set Initial theta\n",
        "        initial_theta = np.zeros(n + 1)\n",
        "      \n",
        "        # Set options for minimize\n",
        "        options = {'maxiter': 50}\n",
        "    \n",
        "        # Run minimize to obtain the optimal theta. This function will \n",
        "        # return a class object where theta is in `res.x` and cost in `res.fun`\n",
        "        res = optimize.minimize(lrCostFunction, \n",
        "                                initial_theta, \n",
        "                                (X, (y == c), lambda_), \n",
        "                                jac=True, \n",
        "                                method='TNC',\n",
        "                                options=options) \n",
        "        \n",
        "       \n",
        "        for i in range(401):\n",
        "          all_theta[c][i] =  res.x[i]\n",
        "    \n",
        "    \n",
        "    all_theta = all_theta.T\n",
        "    print(all_theta.shape)\n",
        "    h = sigmoid(np.dot(X,all_theta))\n",
        "    print(h.shape)\n",
        "    p = np.argmax(h,axis=1)\n",
        "\n",
        "    # ============================================================\n",
        "    return p"
      ],
      "execution_count": 0,
      "outputs": []
    },
    {
      "cell_type": "markdown",
      "metadata": {
        "id": "PBwKVakOWZYF",
        "colab_type": "text"
      },
      "source": [
        "Once you are done, call your `predictOneVsAll` function using the learned value of $\\theta$. You should see that the training set accuracy is about 95.1% (i.e., it classifies 95.1% of the examples in the training set correctly)."
      ]
    },
    {
      "cell_type": "code",
      "metadata": {
        "id": "mBsjHsS7WZYH",
        "colab_type": "code",
        "outputId": "3eb01b02-e5b9-41e1-ec10-9e44cbfdb405",
        "colab": {
          "base_uri": "https://localhost:8080/",
          "height": 68
        }
      },
      "source": [
        "\n",
        "pred_1 = predictOneVsAll(all_theta, X)\n",
        "print('Training Set Accuracy: {:.2f}%'.format(np.mean(pred_1 == y) * 100))"
      ],
      "execution_count": 0,
      "outputs": [
        {
          "output_type": "stream",
          "text": [
            "(401, 10)\n",
            "(5000, 10)\n",
            "Training Set Accuracy: 95.16%\n"
          ],
          "name": "stdout"
        }
      ]
    },
    {
      "cell_type": "markdown",
      "metadata": {
        "id": "7enfkzvdWZYP",
        "colab_type": "text"
      },
      "source": [
        "*You should now submit your solutions.*"
      ]
    },
    {
      "cell_type": "code",
      "metadata": {
        "id": "6891IjHUWZYR",
        "colab_type": "code",
        "outputId": "3c890c65-0177-48e9-f0b1-b75055c88b91",
        "colab": {
          "base_uri": "https://localhost:8080/",
          "height": 34
        }
      },
      "source": [
        "acc = np.mean(pred_1 == y) * 100\n",
        "if(95.1 - acc > 2):\n",
        "    print(\"Consider checking your code\")\n",
        "    \n",
        "else:\n",
        "    print(\"You are good to go\")"
      ],
      "execution_count": 0,
      "outputs": [
        {
          "output_type": "stream",
          "text": [
            "You are good to go\n"
          ],
          "name": "stdout"
        }
      ]
    },
    {
      "cell_type": "markdown",
      "metadata": {
        "id": "fbehoC4tWZYX",
        "colab_type": "text"
      },
      "source": [
        "## 2 Neural Networks\n",
        "\n",
        "In the previous part of this exercise, you implemented multi-class logistic regression to recognize handwritten digits. However, logistic regression cannot form more complex hypotheses as it is only a linear classifier (You could add more features - such as polynomial features - to logistic regression, but that can be very expensive to train).\n",
        "\n",
        "In this part of the exercise, you will implement a neural network to recognize handwritten digits using the same training set as before. The neural network will be able to represent complex models that form non-linear hypotheses. For this week, you will be using parameters from a neural network that we have already trained. Your goal is to implement the feedforward propagation algorithm to use our weights for prediction. In next week’s exercise, you will write the backpropagation algorithm for learning the neural network parameters. \n",
        "\n",
        "We start by first reloading and visualizing the dataset which contains the MNIST handwritten digits (this is the same as we did in the first part of this exercise, we reload it here to ensure the variables have not been modified). "
      ]
    },
    {
      "cell_type": "code",
      "metadata": {
        "id": "YJHnSql7wFBG",
        "colab_type": "code",
        "colab": {}
      },
      "source": [
        "import sys\n",
        "import numpy as np\n",
        "from matplotlib import pyplot\n",
        "\n",
        "sys.path.append('..')\n",
        "\n",
        "\n",
        "\n",
        "def displayData(X, example_width=None, figsize=(10, 10)):\n",
        "    \"\"\"\n",
        "    Displays 2D data stored in X in a nice grid.\n",
        "    \"\"\"\n",
        "    # Compute rows, cols\n",
        "    if X.ndim == 2:\n",
        "        m, n = X.shape\n",
        "    elif X.ndim == 1:\n",
        "        n = X.size\n",
        "        m = 1\n",
        "        X = X[None]  # Promote to a 2 dimensional array\n",
        "    else:\n",
        "        raise IndexError('Input X should be 1 or 2 dimensional.')\n",
        "\n",
        "    example_width = example_width or int(np.round(np.sqrt(n)))\n",
        "    example_height = n / example_width\n",
        "\n",
        "    # Compute number of items to display\n",
        "    display_rows = int(np.floor(np.sqrt(m)))\n",
        "    display_cols = int(np.ceil(m / display_rows))\n",
        "\n",
        "    fig, ax_array = pyplot.subplots(display_rows, display_cols, figsize=figsize)\n",
        "    fig.subplots_adjust(wspace=0.025, hspace=0.025)\n",
        "\n",
        "    ax_array = [ax_array] if m == 1 else ax_array.ravel()\n",
        "\n",
        "    for i, ax in enumerate(ax_array):\n",
        "        # Display Image\n",
        "        h = ax.imshow(X[i].reshape(example_width, example_width, order='F'),\n",
        "                      cmap='Greys', extent=[0, 1, 0, 1])\n",
        "        ax.axis('off')\n",
        "\n",
        "\n",
        "def predict1(Theta1, Theta2, X):\n",
        "    \"\"\"\n",
        "    Predict the label of an input given a trained neural network\n",
        "    Outputs the predicted label of X given the trained weights of a neural\n",
        "    network(Theta1, Theta2)\n",
        "    \"\"\"\n",
        "    # Useful values\n",
        "    m = X.shape[0]\n",
        "    num_labels = Theta2.shape[0]\n",
        "\n",
        "    # You need to return the following variables correctly\n",
        "    p = np.zeros(m)\n",
        "    h1 = sigmoid(np.dot(np.concatenate([np.ones((m, 1)), X], axis=1), Theta1.T))\n",
        "    h2 = sigmoid(np.dot(np.concatenate([np.ones((m, 1)), h1], axis=1), Theta2.T))\n",
        "    p = np.argmax(h2, axis=1)\n",
        "    return p\n",
        "\n",
        "\n",
        "def debugInitializeWeights(fan_out, fan_in):\n",
        "    \"\"\"\n",
        "    Initialize the weights of a layer with fan_in incoming connections and fan_out outgoings\n",
        "    connections using a fixed strategy. This will help you later in debugging.\n",
        "\n",
        "    Note that W should be set a matrix of size (1+fan_in, fan_out) as the first row of W handles\n",
        "    the \"bias\" terms.\n",
        "\n",
        "    Parameters\n",
        "    ----------\n",
        "    fan_out : int\n",
        "        The number of outgoing connections.\n",
        "\n",
        "    fan_in : int\n",
        "        The number of incoming connections.\n",
        "\n",
        "    Returns\n",
        "    -------\n",
        "    W : array_like (1+fan_in, fan_out)\n",
        "        The initialized weights array given the dimensions.\n",
        "    \"\"\"\n",
        "    # Initialize W using \"sin\". This ensures that W is always of the same values and will be\n",
        "    # useful for debugging\n",
        "    W = np.sin(np.arange(1, 1 + (1+fan_in)*fan_out))/10.0\n",
        "    W = W.reshape(fan_out, 1+fan_in, order='F')\n",
        "    return W\n",
        "\n",
        "\n",
        "def computeNumericalGradient(J, theta, e=1e-4):\n",
        "    \"\"\"\n",
        "    Computes the gradient using \"finite differences\" and gives us a numerical estimate of the\n",
        "    gradient.\n",
        "\n",
        "    Parameters\n",
        "    ----------\n",
        "    J : func\n",
        "        The cost function which will be used to estimate its numerical gradient.\n",
        "\n",
        "    theta : array_like\n",
        "        The one dimensional unrolled network parameters. The numerical gradient is computed at\n",
        "         those given parameters.\n",
        "\n",
        "    e : float (optional)\n",
        "        The value to use for epsilon for computing the finite difference.\n",
        "\n",
        "    Notes\n",
        "    -----\n",
        "    The following code implements numerical gradient checking, and\n",
        "    returns the numerical gradient. It sets `numgrad[i]` to (a numerical\n",
        "    approximation of) the partial derivative of J with respect to the\n",
        "    i-th input argument, evaluated at theta. (i.e., `numgrad[i]` should\n",
        "    be the (approximately) the partial derivative of J with respect\n",
        "    to theta[i].)\n",
        "    \"\"\"\n",
        "    numgrad = np.zeros(theta.shape)\n",
        "    perturb = np.diag(e * np.ones(theta.shape))\n",
        "    for i in range(theta.size):\n",
        "        loss1, _ = J(theta - perturb[:, i])\n",
        "        loss2, _ = J(theta + perturb[:, i])\n",
        "        numgrad[i] = (loss2 - loss1)/(2*e)\n",
        "    return numgrad\n",
        "\n",
        "\n",
        "def checkNNGradients(nnCostFunction, lambda_=0):\n",
        "    \"\"\"\n",
        "    Creates a small neural network to check the backpropagation gradients. It will output the\n",
        "    analytical gradients produced by your backprop code and the numerical gradients\n",
        "    (computed using computeNumericalGradient). These two gradient computations should result in\n",
        "    very similar values.\n",
        "\n",
        "    Parameters\n",
        "    ----------\n",
        "    nnCostFunction : func\n",
        "        A reference to the cost function implemented by the student.\n",
        "\n",
        "    lambda_ : float (optional)\n",
        "        The regularization parameter value.\n",
        "    \"\"\"\n",
        "    input_layer_size = 3\n",
        "    hidden_layer_size = 5\n",
        "    num_labels = 3\n",
        "    m = 5\n",
        "\n",
        "    # We generate some 'random' test data\n",
        "    Theta1 = debugInitializeWeights(hidden_layer_size, input_layer_size)\n",
        "    Theta2 = debugInitializeWeights(num_labels, hidden_layer_size)\n",
        "\n",
        "    # Reusing debugInitializeWeights to generate X\n",
        "    X = debugInitializeWeights(m, input_layer_size - 1)\n",
        "    y = np.arange(1, 1+m) % num_labels\n",
        "    # print(y)\n",
        "    # Unroll parameters\n",
        "    nn_params = np.concatenate([Theta1.ravel(), Theta2.ravel()])\n",
        "\n",
        "    # short hand for cost function\n",
        "    costFunc = lambda p: nnCostFunction(p, input_layer_size, hidden_layer_size,\n",
        "                                        num_labels, X, y, lambda_)\n",
        "    cost, grad = costFunc(nn_params)\n",
        "    numgrad = computeNumericalGradient(costFunc, nn_params)\n",
        "\n",
        "    # Visually examine the two gradient computations.The two columns you get should be very similar.\n",
        "    print(np.stack([numgrad, grad], axis=1))\n",
        "    print('The above two columns you get should be very similar.')\n",
        "    print('(Left-Your Numerical Gradient, Right-Analytical Gradient)\\n')\n",
        "\n",
        "    # Evaluate the norm of the difference between two the solutions. If you have a correct\n",
        "    # implementation, and assuming you used e = 0.0001 in computeNumericalGradient, then diff\n",
        "    # should be less than 1e-9.\n",
        "    diff = np.linalg.norm(numgrad - grad)/np.linalg.norm(numgrad + grad)\n",
        "\n",
        "    print('If your backpropagation implementation is correct, then \\n'\n",
        "          'the relative difference will be small (less than 1e-9). \\n'\n",
        "          'Relative Difference: %g' % diff)\n",
        "\n",
        "\n",
        "def sigmoid(z):\n",
        "    \"\"\"\n",
        "    Computes the sigmoid of z.\n",
        "    \"\"\"\n",
        "    return 1.0 / (1.0 + np.exp(-z))\n"
      ],
      "execution_count": 0,
      "outputs": []
    },
    {
      "cell_type": "code",
      "metadata": {
        "id": "kEojafTqWZYZ",
        "colab_type": "code",
        "outputId": "01b286f5-19a0-442d-93a1-529587668089",
        "colab": {
          "base_uri": "https://localhost:8080/",
          "height": 596
        }
      },
      "source": [
        "#  training data stored in arrays X, y\n",
        "data = loadmat(os.path.join('Data1', 'ex3data1.mat'))\n",
        "X, y = data['X'], data['y'].ravel()\n",
        "\n",
        "# set the zero digit to 0, rather than its mapped 10 in this dataset\n",
        "# This is an artifact due to the fact that this dataset was used in \n",
        "# MATLAB where there is no index 0\n",
        "y[y == 10] = 0\n",
        "\n",
        "# get number of examples in dataset\n",
        "m = y.size\n",
        "\n",
        "# randomly permute examples, to be used for visualizing one \n",
        "# picture at a time\n",
        "indices = np.random.permutation(m)\n",
        "\n",
        "# Randomly select 100 data points to display\n",
        "rand_indices = np.random.choice(m, 100, replace=False)\n",
        "sel = X[rand_indices, :]\n",
        "\n",
        "displayData(sel)"
      ],
      "execution_count": 0,
      "outputs": [
        {
          "output_type": "display_data",
          "data": {
            "image/png": "[encoded data removed]",
            "text/plain": [
              "<Figure size 720x720 with 100 Axes>"
            ]
          },
          "metadata": {
            "tags": []
          }
        }
      ]
    },
    {
      "cell_type": "markdown",
      "metadata": {
        "id": "j24e1ll7WZYk",
        "colab_type": "text"
      },
      "source": [
        "\n",
        "### 2.1 Model representation \n",
        "\n",
        "Our neural network is shown in the following figure.\n",
        "\n",
        "![Neural network](Figures/neural_network.png)\n",
        "\n",
        "It has 3 layers: an input layer, a hidden layer and an output layer. Recall that our inputs are pixel values of digit images. Since the images are of size 20×20, this gives us 400 input layer units (excluding the extra bias unit which always outputs +1). As before, the training data will be loaded into the variables X and y. \n",
        "\n",
        "You have been provided with a set of network parameters ($\\Theta^{(1)}$, $\\Theta^{(2)}$) already trained by us. These are stored in `ex3weights.mat`. The following cell loads those parameters into  `Theta1` and `Theta2`. The parameters have dimensions that are sized for a neural network with 25 units in the second layer and 10 output units (corresponding to the 10 digit classes)."
      ]
    },
    {
      "cell_type": "code",
      "metadata": {
        "id": "JCfEFQwDWZYl",
        "colab_type": "code",
        "colab": {}
      },
      "source": [
        "# Setup the parameters you will use for this exercise\n",
        "input_layer_size  = 400  # 20x20 Input Images of Digits\n",
        "hidden_layer_size = 25   # 25 hidden units\n",
        "num_labels = 10          # 10 labels, from 0 to 9\n",
        "\n",
        "# Load the .mat file, which returns a dictionary \n",
        "weights = loadmat(os.path.join('Data1', 'ex3weights.mat'))\n",
        "\n",
        "# get the model weights from the dictionary\n",
        "# Theta1 has size 25 x 401\n",
        "# Theta2 has size 10 x 26\n",
        "Theta1, Theta2 = weights['Theta1'], weights['Theta2']\n",
        "\n",
        "# swap first and last columns of Theta2, due to legacy from MATLAB indexing, \n",
        "# since the weight file ex3weights.mat was saved based on MATLAB indexing\n",
        "Theta2 = np.roll(Theta2, 1, axis=0)"
      ],
      "execution_count": 0,
      "outputs": []
    },
    {
      "cell_type": "markdown",
      "metadata": {
        "id": "iG5rGRzyWZY0",
        "colab_type": "text"
      },
      "source": [
        "<a id=\"section4\"></a>\n",
        "### 2.2 Feedforward Propagation and Prediction\n",
        "\n",
        "Now you will implement feedforward propagation for the neural network. You will need to complete the code in the function `predict` to return the neural network’s prediction. You should implement the feedforward computation that computes $h_\\theta(x^{(i)})$ for every example $i$ and returns the associated predictions. Similar to the one-vs-all classification strategy, the prediction from the neural network will be the label that has the largest output $\\left( h_\\theta(x) \\right)_k$.\n",
        "\n",
        "<div class=\"alert alert-box alert-warning\">\n",
        "**Implementation Note:** The matrix $X$ contains the examples in rows. When you complete the code in the function `predict`, you will need to add the column of 1’s to the matrix. The matrices `Theta1` and `Theta2` contain the parameters for each unit in rows. Specifically, the first row of `Theta1` corresponds to the first hidden unit in the second layer. In `numpy`, when you compute $z^{(2)} = \\theta^{(1)}a^{(1)}$, be sure that you index (and if necessary, transpose) $X$ correctly so that you get $a^{(l)}$ as a 1-D vector.\n",
        "</div>\n",
        "<a id=\"predict\"></a>"
      ]
    },
    {
      "cell_type": "code",
      "metadata": {
        "id": "HJwrSNT3WZY3",
        "colab_type": "code",
        "colab": {}
      },
      "source": [
        "def predict(Theta1, Theta2, X):\n",
        "    \"\"\"\n",
        "    Predict the label of an input given a trained neural network.\n",
        "    \n",
        "    Parameters\n",
        "    ----------\n",
        "    Theta1 : array_like\n",
        "        Weights for the first layer in the neural network.\n",
        "        It has shape (2nd hidden layer size x input size)\n",
        "    \n",
        "    Theta2: array_like\n",
        "        Weights for the second layer in the neural network. \n",
        "        It has shape (output layer size x 2nd hidden layer size)\n",
        "    \n",
        "    X : array_like\n",
        "        The image inputs having shape (number of examples x image dimensions).\n",
        "    \n",
        "    Return \n",
        "    ------\n",
        "    p : array_like\n",
        "        Predictions vector containing the predicted label for each example.\n",
        "        It has a length equal to the number of examples.\n",
        "    \n",
        "    Instructions\n",
        "    ------------\n",
        "    Complete the following code to make predictions using your learned neural\n",
        "    network. You should set p to a vector containing labels \n",
        "    between 0 to (num_labels-1).\n",
        "     \n",
        "    Hint\n",
        "    ----\n",
        "    This code can be done all vectorized using the numpy argmax function.\n",
        "    In particular, the argmax function returns the index of the  max element,\n",
        "    for more information see '?np.argmax' or search online. If your examples\n",
        "    are in rows, then, you can use np.argmax(A, axis=1) to obtain the index\n",
        "    of the max for each row.\n",
        "    \n",
        "    Note\n",
        "    ----\n",
        "    Remember, we have supplied the `sigmoid` function in the `utils.py` file. \n",
        "    You can use this function by calling `utils.sigmoid(z)`, where you can \n",
        "    replace `z` by the required input variable to sigmoid.\n",
        "    \"\"\"\n",
        "    # Make sure the input has two dimensions\n",
        "    if X.ndim == 1:\n",
        "        X = X[None]  # promote to 2-dimensions\n",
        "    \n",
        "    # useful variables\n",
        "    m = X.shape[0]\n",
        "    num_labels = Theta2.shape[0]\n",
        "\n",
        "    # You need to return the following variables correctly \n",
        "    p = np.zeros(X.shape[0])\n",
        "\n",
        "    # ====================== YOUR CODE HERE ======================\n",
        "    #print(\"Theta1\")\n",
        "    #print(Theta1.shape)\n",
        "    #print(\"Theta2\")\n",
        "    #print(Theta2.shape)\n",
        "    X = np.concatenate([np.ones((m, 1)), X], axis=1)\n",
        "    #print(\"X\")\n",
        "    #print(X.shape)\n",
        "          \n",
        "    Theta1_T = Theta1.T\n",
        "    #print(\"Theta1_T\")\n",
        "    Theta1_T = np.concatenate([np.ones((401, 1)), Theta1_T], axis=1)\n",
        "    \n",
        "    #print(Theta1_T.shape)\n",
        "    a1 = sigmoid(np.dot(X, Theta1_T))\n",
        "    #print(\"a1\")\n",
        "    #print(a1.shape)\n",
        "    \n",
        "    #print(\"p\")\n",
        "    #print(p.shape)\n",
        "    a1_T = a1.T\n",
        "    a2 = sigmoid(np.dot(Theta2,a1_T))\n",
        "    #print(\"a2\")\n",
        "    print(a2.shape)\n",
        "    a2 = a2.T\n",
        "    p = p[ :,None]\n",
        "   \n",
        "    p = np.argmax(a2,axis=1)\n",
        "    \n",
        "    \n",
        "    \n",
        "    \n",
        "    # =============================================================\n",
        "    return p"
      ],
      "execution_count": 0,
      "outputs": []
    },
    {
      "cell_type": "markdown",
      "metadata": {
        "id": "REaECREqWZY-",
        "colab_type": "text"
      },
      "source": [
        "Once you are done, call your predict function using the loaded set of parameters for `Theta1` and `Theta2`. You should see that the accuracy is about 97.5%."
      ]
    },
    {
      "cell_type": "code",
      "metadata": {
        "id": "2ehviHEyWZZA",
        "colab_type": "code",
        "outputId": "1809eda5-81a8-428a-f58b-b79f794695a8",
        "colab": {
          "base_uri": "https://localhost:8080/",
          "height": 51
        }
      },
      "source": [
        "pred = predict(Theta1, Theta2, X)\n",
        "print('Training Set Accuracy: {:.1f}%'.format(np.mean(pred == y) * 100))"
      ],
      "execution_count": 0,
      "outputs": [
        {
          "output_type": "stream",
          "text": [
            "(10, 5000)\n",
            "Training Set Accuracy: 97.5%\n"
          ],
          "name": "stdout"
        }
      ]
    },
    {
      "cell_type": "markdown",
      "metadata": {
        "id": "PrWUa3N9WZZF",
        "colab_type": "text"
      },
      "source": [
        "After that, we will display images from the training set one at a time, while at the same time printing out the predicted label for the displayed image. \n",
        "\n",
        "Run the following cell to display a single image the the neural network's prediction. You can run the cell multiple time to see predictions for different images."
      ]
    },
    {
      "cell_type": "code",
      "metadata": {
        "id": "b3PWdi7bWZZG",
        "colab_type": "code",
        "outputId": "7ce5ba6a-dea3-4c27-a42e-996735879c68",
        "colab": {
          "base_uri": "https://localhost:8080/",
          "height": 303
        }
      },
      "source": [
        "if indices.size > 0:\n",
        "    i, indices = indices[0], indices[1:]\n",
        "    displayData(X[i, :], figsize=(4, 4))\n",
        "    pred1 = predict(Theta1, Theta2, X[i, :])\n",
        "    print('Neural Network Prediction: {}'.format(*pred1))\n",
        "else:\n",
        "    print('No more images to display!')"
      ],
      "execution_count": 0,
      "outputs": [
        {
          "output_type": "stream",
          "text": [
            "(10, 1)\n",
            "Neural Network Prediction: 4\n"
          ],
          "name": "stdout"
        },
        {
          "output_type": "display_data",
          "data": {
            "image/png": "[encoded data removed]",
            "text/plain": [
              "<Figure size 288x288 with 1 Axes>"
            ]
          },
          "metadata": {
            "tags": []
          }
        }
      ]
    },
    {
      "cell_type": "code",
      "metadata": {
        "id": "fcaBetUHWZZN",
        "colab_type": "code",
        "outputId": "48055733-3e50-4639-9a44-016a7f2f5f4f",
        "colab": {
          "base_uri": "https://localhost:8080/",
          "height": 34
        }
      },
      "source": [
        "acc = np.mean(pred == y) * 100\n",
        "if(97.5 - acc > 2):\n",
        "    print(\"Consider checking your code\")\n",
        "else:\n",
        "    print(\"You are good to go\")"
      ],
      "execution_count": 0,
      "outputs": [
        {
          "output_type": "stream",
          "text": [
            "You are good to go\n"
          ],
          "name": "stdout"
        }
      ]
    },
    {
      "cell_type": "markdown",
      "metadata": {
        "id": "tnuEMiY8WZZU",
        "colab_type": "text"
      },
      "source": [
        "# PART 2"
      ]
    },
    {
      "cell_type": "markdown",
      "metadata": {
        "id": "MZ3ESS6KWZZW",
        "colab_type": "text"
      },
      "source": [
        "# Neural Networks Learning\n",
        "\n",
        "## Introduction\n",
        "\n",
        "In this exercise, you will implement the backpropagation algorithm for neural networks and apply it to the task of hand-written digit recognition.\n",
        "\n"
      ]
    },
    {
      "cell_type": "markdown",
      "metadata": {
        "id": "t6AIvs0-WZZY",
        "colab_type": "text"
      },
      "source": [
        "## Submission and Grading\n",
        "\n",
        "\n",
        "After completing each part of the assignment, be sure to submit your solutions. The following is a breakdown of how each part of this exercise is scored.\n",
        "\n",
        "\n",
        "| Section | Part                                             | Submission function | Points \n",
        "| :-      |:-                                                | :-                  | :-:    \n",
        "| 1       | [Feedforward and Cost Function](#section1)                    | [`nnCostFunction`](#nnCostFunction)   | 30     \n",
        "| 2       | [Regularized Cost Function](#section2)                        | [`nnCostFunction`](#nnCostFunction)   | 15     \n",
        "| 3       | [Sigmoid Gradient](#section3)                                 | [`sigmoidGradient`](#sigmoidGradient) | 5      \n",
        "| 4       | [Neural Net Gradient Function (Backpropagation)](#section4)   | [`nnCostFunction`](#nnCostFunction)   | 40     \n",
        "| 5       | [Regularized Gradient](#section5)                             | [`nnCostFunction`](#nnCostFunction)   |10     \n",
        "|         | Total Points                                     |    | 100    \n",
        "\n"
      ]
    },
    {
      "cell_type": "markdown",
      "metadata": {
        "id": "zM7k9Rg2WZZZ",
        "colab_type": "text"
      },
      "source": [
        "## Neural Networks\n",
        "\n",
        "In the previous part, you implemented feedforward propagation for neural networks and used it to predict handwritten digits with the weights we provided. In this part, you will implement the backpropagation algorithm to learn the parameters for the neural network.\n",
        "\n",
        "We have already loaded the dataset. We just need to load the weights"
      ]
    },
    {
      "cell_type": "code",
      "metadata": {
        "id": "CMvnklGzWZZb",
        "colab_type": "code",
        "colab": {}
      },
      "source": [
        "# Setup the parameters you will use for this exercise\n",
        "input_layer_size  = 400  # 20x20 Input Images of Digits\n",
        "hidden_layer_size = 25   # 25 hidden units\n",
        "num_labels = 10          # 10 labels, from 0 to 9\n",
        "\n",
        "# Load the weights into variables Theta1 and Theta2\n",
        "weights = loadmat(os.path.join('Data2', 'ex4weights.mat'))\n",
        "\n",
        "# Theta1 has size 25 x 401\n",
        "# Theta2 has size 10 x 26\n",
        "Theta1, Theta2 = weights['Theta1'], weights['Theta2']\n",
        "\n",
        "# swap first and last columns of Theta2, due to legacy from MATLAB indexing, \n",
        "# since the weight file ex3weights.mat was saved based on MATLAB indexing\n",
        "Theta2 = np.roll(Theta2, 1, axis=0)\n",
        "\n",
        "# Unroll parameters \n",
        "nn_params = np.concatenate([Theta1.ravel(), Theta2.ravel()])"
      ],
      "execution_count": 0,
      "outputs": []
    },
    {
      "cell_type": "markdown",
      "metadata": {
        "id": "IL65VYeCWZZm",
        "colab_type": "text"
      },
      "source": [
        "<a id=\"section1\"></a>\n",
        "### 1.1 Feedforward and cost function\n",
        "\n",
        "Now you will implement the cost function and gradient for the neural network. First, complete the code for the function `nnCostFunction` in the next cell to return the cost.\n",
        "\n",
        "Recall that the cost function for the neural network (without regularization) is:\n",
        "\n",
        "$$ J(\\theta) = \\frac{1}{m} \\sum_{i=1}^{m}\\sum_{k=1}^{K} \\left[ - y_k^{(i)} \\log \\left( \\left( h_\\theta \\left( x^{(i)} \\right) \\right)_k \\right) - \\left( 1 - y_k^{(i)} \\right) \\log \\left( 1 - \\left( h_\\theta \\left( x^{(i)} \\right) \\right)_k \\right) \\right]$$\n",
        "\n",
        "where $h_\\theta \\left( x^{(i)} \\right)$ is computed as shown in the neural network figure above, and K = 10 is the total number of possible labels. Note that $h_\\theta(x^{(i)})_k = a_k^{(3)}$ is the activation (output\n",
        "value) of the $k^{th}$ output unit. Also, recall that whereas the original labels (in the variable y) were 0, 1, ..., 9, for the purpose of training a neural network, we need to encode the labels as vectors containing only values 0 or 1, so that\n",
        "\n",
        "$$ y = \n",
        "\\begin{bmatrix} 1 \\\\ 0 \\\\ 0 \\\\\\vdots \\\\ 0 \\end{bmatrix}, \\quad\n",
        "\\begin{bmatrix} 0 \\\\ 1 \\\\ 0 \\\\ \\vdots \\\\ 0 \\end{bmatrix}, \\quad \\cdots  \\quad \\text{or} \\qquad\n",
        "\\begin{bmatrix} 0 \\\\ 0 \\\\ 0 \\\\ \\vdots \\\\ 1 \\end{bmatrix}.\n",
        "$$\n",
        "\n",
        "For example, if $x^{(i)}$ is an image of the digit 5, then the corresponding $y^{(i)}$ (that you should use with the cost function) should be a 10-dimensional vector with $y_5 = 1$, and the other elements equal to 0.\n",
        "\n",
        "You should implement the feedforward computation that computes $h_\\theta(x^{(i)})$ for every example $i$ and sum the cost over all examples. **Your code should also work for a dataset of any size, with any number of labels** (you can assume that there are always at least $K \\ge 3$ labels).\n",
        "\n",
        "<div class=\"alert alert-box alert-warning\">\n",
        "**Implementation Note:** The matrix $X$ contains the examples in rows (i.e., X[i,:] is the i-th training example $x^{(i)}$, expressed as a $n \\times 1$ vector.) When you complete the code in `nnCostFunction`, you will need to add the column of 1’s to the X matrix. The parameters for each unit in the neural network is represented in Theta1 and Theta2 as one row. Specifically, the first row of Theta1 corresponds to the first hidden unit in the second layer. You can use a for-loop over the examples to compute the cost.\n",
        "</div>\n",
        "<a id=\"nnCostFunction\"></a>"
      ]
    },
    {
      "cell_type": "code",
      "metadata": {
        "colab_type": "code",
        "id": "4Yhao7Dx-3Od",
        "colab": {}
      },
      "source": [
        "def nnCostFunction(nn_params,\n",
        "                   input_layer_size,\n",
        "                   hidden_layer_size,\n",
        "                   num_labels,\n",
        "                   X, y, lambda_=0.0):\n",
        "    \"\"\"\n",
        "    Implements the neural network cost function and gradient for a two layer neural \n",
        "    network which performs classification. \n",
        "    \n",
        "    Parameters\n",
        "    ----------\n",
        "    nn_params : array_like\n",
        "        The parameters for the neural network which are \"unrolled\" into \n",
        "        a vector. This needs to be converted back into the weight matrices Theta1\n",
        "        and Theta2.\n",
        "    \n",
        "    input_layer_size : int\n",
        "        Number of features for the input layer. \n",
        "    \n",
        "    hidden_layer_size : int\n",
        "        Number of hidden units in the second layer.\n",
        "    \n",
        "    num_labels : int\n",
        "        Total number of labels, or equivalently number of units in output layer. \n",
        "    \n",
        "    X : array_like\n",
        "        Input dataset. A matrix of shape (m x input_layer_size).\n",
        "    \n",
        "    y : array_like\n",
        "        Dataset labels. A vector of shape (m,).\n",
        "    \n",
        "    lambda_ : float, optional\n",
        "        Regularization parameter.\n",
        " \n",
        "    Returns\n",
        "    -------\n",
        "    J : float\n",
        "        The computed value for the cost function at the current weight values.\n",
        "    \n",
        "    grad : array_like\n",
        "        An \"unrolled\" vector of the partial derivatives of the concatenatation of\n",
        "        neural network weights Theta1 and Theta2.\n",
        "    \n",
        "    Instructions\n",
        "    ------------\n",
        "    You should complete the code by working through the following parts.\n",
        "    \n",
        "    - Part 1: Feedforward the neural network and return the cost in the \n",
        "              variable J. After implementing Part 1, you can verify that your\n",
        "              cost function computation is correct by verifying the cost\n",
        "              computed in the following cell.\n",
        "    \n",
        "    - Part 2: Implement the backpropagation algorithm to compute the gradients\n",
        "              Theta1_grad and Theta2_grad. You should return the partial derivatives of\n",
        "              the cost function with respect to Theta1 and Theta2 in Theta1_grad and\n",
        "              Theta2_grad, respectively. After implementing Part 2, you can check\n",
        "              that your implementation is correct by running checkNNGradients provided\n",
        "              in the utils.py module.\n",
        "     \n",
        "      Part 3: Implement regularization with the cost function and gradients.\n",
        "              \n",
        "    \n",
        "    \n",
        "    Note \n",
        "    ----\n",
        "    We have provided an implementation for the sigmoid function in the file \n",
        "    `utils.py` accompanying this assignment.\n",
        "    \"\"\"\n",
        "    # Reshape nn_params back into the parameters Theta1 and Theta2, the weight matrices\n",
        "    # for our 2 layer neural network\n",
        "    Theta1 = np.reshape(nn_params[:hidden_layer_size * (input_layer_size + 1)],\n",
        "                        (hidden_layer_size, (input_layer_size + 1)))\n",
        "\n",
        "    Theta2 = np.reshape(nn_params[(hidden_layer_size * (input_layer_size + 1)):],\n",
        "                        (num_labels, (hidden_layer_size + 1)))\n",
        "\n",
        "    # Setup some useful variables\n",
        "    m = y.size\n",
        "         \n",
        "    # You need to return the following variables correctly \n",
        "    J = 0\n",
        "    Theta1_grad = np.zeros(Theta1.shape)\n",
        "    Theta2_grad = np.zeros(Theta2.shape)\n",
        "\n",
        "    # ====================== YOUR CODE HERE ======================\n",
        "    X = np.concatenate([np.ones((m, 1)), X], axis=1)\n",
        "    a1=sigmoid(X.dot(Theta1.T))\n",
        "    a1 = np.concatenate([np.ones((m, 1)), a1], axis=1)\n",
        "    b=sigmoid(a1.dot(Theta2.T))\n",
        "    d=np.zeros((m,num_labels))\n",
        "    for i in range (m):\n",
        "        d[i,y[i]]=1\n",
        "    J=(-1)*((d*np.log(b)+(1-d)*np.log(1-b)).sum())/m + (lambda_/(2*m))*((Theta1[:,1:]**2).sum()+(Theta2[:,1:]**2).sum())\n",
        "    for t in range(m):\n",
        "        x1=X[t,:]\n",
        "        a11=a1[t,:]\n",
        "        y1 =d[t,:].T\n",
        "        b1 =b[t,:].T\n",
        "        del3=b1-y1\n",
        "        \n",
        "        del2=((Theta2.T).dot(del3))\n",
        "        del2=del2[1:]\n",
        "        del2=del2*sigmoidGradient(x1.dot(Theta1.T))\n",
        "        Theta1_grad+=del2[:,None].dot(x1[:,None].T)\n",
        "        Theta2_grad+=del3[:,None].dot(a11[:,None].T)\n",
        "    \n",
        "    Theta1_grad/=m\n",
        "    Theta2_grad/=m\n",
        "    Theta1_grad[:,1:]+= (lambda_/m)*Theta1[:,1:]\n",
        "    Theta2_grad[:,1:]+= (lambda_/m)*Theta2[:,1:]\n",
        "    # ================================================================\n",
        "    # Unroll gradients\n",
        "    # grad = np.concatenate([Theta1_grad.ravel(order=order), Theta2_grad.ravel(order=order)])\n",
        "    grad = np.concatenate([Theta1_grad.ravel(), Theta2_grad.ravel()])\n",
        "\n",
        "    return J, grad"
      ],
      "execution_count": 0,
      "outputs": []
    },
    {
      "cell_type": "markdown",
      "metadata": {
        "id": "RtffHQifWZZv",
        "colab_type": "text"
      },
      "source": [
        "<div class=\"alert alert-box alert-warning\">\n",
        "Use the following links to go back to the different parts of this exercise that require to modify the function `nnCostFunction`.<br>\n",
        "\n",
        "Back to:\n",
        "- [Feedforward and cost function](#section1)\n",
        "- [Regularized cost](#section2)\n",
        "- [Neural Network Gradient (Backpropagation)](#section4)\n",
        "- [Regularized Gradient](#section5)\n",
        "</div>"
      ]
    },
    {
      "cell_type": "markdown",
      "metadata": {
        "id": "vTQATU5jWZZx",
        "colab_type": "text"
      },
      "source": [
        "Once you are done, call your `nnCostFunction` using the loaded set of parameters for `Theta1` and `Theta2`. You should see that the cost is about 0.287629."
      ]
    },
    {
      "cell_type": "code",
      "metadata": {
        "id": "oKF0l24YWZZ1",
        "colab_type": "code",
        "outputId": "392ec4eb-62e2-42a5-8b76-322eab0470f8",
        "colab": {
          "base_uri": "https://localhost:8080/",
          "height": 51
        }
      },
      "source": [
        "lambda_ = 0\n",
        "J, _ = nnCostFunction(nn_params, input_layer_size, hidden_layer_size,\n",
        "                   num_labels, X, y, lambda_)\n",
        "print('Cost at parameters (loaded from ex4weights): %.6f ' % J)\n",
        "print('The cost should be about                   : 0.287629.')"
      ],
      "execution_count": 0,
      "outputs": [
        {
          "output_type": "stream",
          "text": [
            "Cost at parameters (loaded from ex4weights): 0.287629 \n",
            "The cost should be about                   : 0.287629.\n"
          ],
          "name": "stdout"
        }
      ]
    },
    {
      "cell_type": "code",
      "metadata": {
        "id": "OkN4xnf4WZaH",
        "colab_type": "code",
        "outputId": "49735822-1068-4d9b-8fb4-77148fd2422b",
        "colab": {
          "base_uri": "https://localhost:8080/",
          "height": 34
        }
      },
      "source": [
        "if (J - 0.287629 > 0.3):\n",
        "    print(\"You should probably check your code\")\n",
        "    \n",
        "else:\n",
        "    print(\"You are good to move on\")"
      ],
      "execution_count": 0,
      "outputs": [
        {
          "output_type": "stream",
          "text": [
            "You are good to move on\n"
          ],
          "name": "stdout"
        }
      ]
    },
    {
      "cell_type": "markdown",
      "metadata": {
        "id": "cfKgbEY8WZaM",
        "colab_type": "text"
      },
      "source": [
        "<a id=\"section2\"></a>\n",
        "### 1.2 Regularized cost function\n",
        "\n",
        "The cost function for neural networks with regularization is given by:\n",
        "\n",
        "\n",
        "$$ J(\\theta) = \\frac{1}{m} \\sum_{i=1}^{m}\\sum_{k=1}^{K} \\left[ - y_k^{(i)} \\log \\left( \\left( h_\\theta \\left( x^{(i)} \\right) \\right)_k \\right) - \\left( 1 - y_k^{(i)} \\right) \\log \\left( 1 - \\left( h_\\theta \\left( x^{(i)} \\right) \\right)_k \\right) \\right] + \\frac{\\lambda}{2 m} \\left[ \\sum_{j=1}^{25} \\sum_{k=1}^{400} \\left( \\Theta_{j,k}^{(1)} \\right)^2 + \\sum_{j=1}^{10} \\sum_{k=1}^{25} \\left( \\Theta_{j,k}^{(2)} \\right)^2 \\right] $$\n",
        "\n",
        "You can assume that the neural network will only have 3 layers - an input layer, a hidden layer and an output layer. However, your code should work for any number of input units, hidden units and outputs units. While we\n",
        "have explicitly listed the indices above for $\\Theta^{(1)}$ and $\\Theta^{(2)}$ for clarity, do note that your code should in general work with $\\Theta^{(1)}$ and $\\Theta^{(2)}$ of any size. Note that you should not be regularizing the terms that correspond to the bias. For the matrices `Theta1` and `Theta2`, this corresponds to the first column of each matrix. You should now add regularization to your cost function. Notice that you can first compute the unregularized cost function $J$ using your existing `nnCostFunction` and then later add the cost for the regularization terms.\n",
        "\n",
        "[Click here to go back to `nnCostFunction` for editing.](#nnCostFunction)"
      ]
    },
    {
      "cell_type": "markdown",
      "metadata": {
        "id": "kuDfuC5WWZaR",
        "colab_type": "text"
      },
      "source": [
        "Once you are done, the next cell will call your `nnCostFunction` using the loaded set of parameters for `Theta1` and `Theta2`, and $\\lambda = 1$. You should see that the cost is about 0.383770."
      ]
    },
    {
      "cell_type": "code",
      "metadata": {
        "id": "U8Xe-iMYWZaU",
        "colab_type": "code",
        "outputId": "30cf0da3-38bc-43b8-93db-5c46293f81a0",
        "colab": {
          "base_uri": "https://localhost:8080/",
          "height": 51
        }
      },
      "source": [
        "# Weight regularization parameter (we set this to 1 here).\n",
        "lambda_ = 1\n",
        "J, _ = nnCostFunction(nn_params, input_layer_size, hidden_layer_size,\n",
        "                      num_labels, X, y, lambda_)\n",
        "\n",
        "print('Cost at parameters (loaded from ex4weights): %.6f' % J)\n",
        "print('This value should be about                 : 0.383770.')"
      ],
      "execution_count": 0,
      "outputs": [
        {
          "output_type": "stream",
          "text": [
            "Cost at parameters (loaded from ex4weights): 0.383770\n",
            "This value should be about                 : 0.383770.\n"
          ],
          "name": "stdout"
        }
      ]
    },
    {
      "cell_type": "code",
      "metadata": {
        "id": "ZkE54AUlWZaZ",
        "colab_type": "code",
        "outputId": "e68ac926-3937-4a60-f834-e96d51c66ebc",
        "colab": {
          "base_uri": "https://localhost:8080/",
          "height": 34
        }
      },
      "source": [
        "if (J - 0.383770 > 0.3):\n",
        "    print(\"You should probably check your code\")\n",
        "    \n",
        "else:\n",
        "    print(\"You are good to move on\")"
      ],
      "execution_count": 0,
      "outputs": [
        {
          "output_type": "stream",
          "text": [
            "You are good to move on\n"
          ],
          "name": "stdout"
        }
      ]
    },
    {
      "cell_type": "markdown",
      "metadata": {
        "id": "JHEt1Ri2WZaf",
        "colab_type": "text"
      },
      "source": [
        "## 2 Backpropagation\n",
        "\n",
        "In this part of the exercise, you will implement the backpropagation algorithm to compute the gradient for the neural network cost function. You will need to update the function `nnCostFunction` so that it returns an appropriate value for `grad`. Once you have computed the gradient, you will be able to train the neural network by minimizing the cost function $J(\\theta)$ using an advanced optimizer such as `scipy`'s `optimize.minimize`.\n",
        "You will first implement the backpropagation algorithm to compute the gradients for the parameters for the (unregularized) neural network. After you have verified that your gradient computation for the unregularized case is correct, you will implement the gradient for the regularized neural network."
      ]
    },
    {
      "cell_type": "markdown",
      "metadata": {
        "id": "0xH6OmPnWZag",
        "colab_type": "text"
      },
      "source": [
        "<a id=\"section3\"></a>\n",
        "### 2.1 Sigmoid Gradient\n",
        "\n",
        "To help you get started with this part of the exercise, you will first implement\n",
        "the sigmoid gradient function. The gradient for the sigmoid function can be\n",
        "computed as\n",
        "\n",
        "$$ g'(z) = \\frac{d}{dz} g(z) = g(z)\\left(1-g(z)\\right) $$\n",
        "\n",
        "where\n",
        "\n",
        "$$ \\text{sigmoid}(z) = g(z) = \\frac{1}{1 + e^{-z}} $$\n",
        "\n",
        "Now complete the implementation of `sigmoidGradient` in the next cell.\n",
        "<a id=\"sigmoidGradient\"></a>"
      ]
    },
    {
      "cell_type": "code",
      "metadata": {
        "id": "GNXSoxinWZai",
        "colab_type": "code",
        "colab": {}
      },
      "source": [
        "def sigmoidGradient(z):\n",
        "    \"\"\"\n",
        "    Computes the gradient of the sigmoid function evaluated at z. \n",
        "    This should work regardless if z is a matrix or a vector. \n",
        "    In particular, if z is a vector or matrix, you should return\n",
        "    the gradient for each element.\n",
        "    \n",
        "    Parameters\n",
        "    ----------\n",
        "    z : array_like\n",
        "        A vector or matrix as input to the sigmoid function. \n",
        "    \n",
        "    Returns\n",
        "    --------\n",
        "    g : array_like\n",
        "        Gradient of the sigmoid function. Has the same shape as z. \n",
        "    \n",
        "    Instructions\n",
        "    ------------\n",
        "    Compute the gradient of the sigmoid function evaluated at\n",
        "    each value of z (z can be a matrix, vector or scalar).\n",
        "    \n",
        "    Note\n",
        "    ----\n",
        "    We have provided an implementation of the sigmoid function \n",
        "    in `utils.py` file accompanying this assignment.\n",
        "    \"\"\"\n",
        "\n",
        "    g = np.zeros(z.shape)\n",
        "\n",
        "    # ====================== YOUR CODE HERE ======================\n",
        "    g = sigmoid(z)*(1-sigmoid(z))\n",
        "    \n",
        "\n",
        "    # =============================================================\n",
        "    return g"
      ],
      "execution_count": 0,
      "outputs": []
    },
    {
      "cell_type": "markdown",
      "metadata": {
        "id": "9-EROwszWZam",
        "colab_type": "text"
      },
      "source": [
        "When you are done, the following cell call `sigmoidGradient` on a given vector `z`. Try testing a few values by calling `sigmoidGradient(z)`. For large values (both positive and negative) of z, the gradient should be close to 0. When $z = 0$, the gradient should be exactly 0.25. Your code should also work with vectors and matrices. For a matrix, your function should perform the sigmoid gradient function on every element."
      ]
    },
    {
      "cell_type": "code",
      "metadata": {
        "id": "zEAZP6SmWZan",
        "colab_type": "code",
        "outputId": "7dd777a7-306b-4360-9714-f95f02b334c5",
        "colab": {
          "base_uri": "https://localhost:8080/",
          "height": 68
        }
      },
      "source": [
        "z = np.array([-1, -0.5, 0, 0.5, 1])\n",
        "g = sigmoidGradient(z)\n",
        "print('Sigmoid gradient evaluated at [-1 -0.5 0 0.5 1]:\\n  ')\n",
        "print(g)"
      ],
      "execution_count": 0,
      "outputs": [
        {
          "output_type": "stream",
          "text": [
            "Sigmoid gradient evaluated at [-1 -0.5 0 0.5 1]:\n",
            "  \n",
            "[0.196612 0.235004 0.25     0.235004 0.196612]\n"
          ],
          "name": "stdout"
        }
      ]
    },
    {
      "cell_type": "code",
      "metadata": {
        "id": "ohjtPj67WZau",
        "colab_type": "code",
        "colab": {}
      },
      "source": [
        "ak = np.array([0.19661193, 0.23500371, 0.25, 0.23500371, 0.19661193])\n",
        "for a,m in enumerate(ak):\n",
        "    if(ak[a] - g[a] > 1e-02):\n",
        "        print(\"You have to check your code\")\n",
        "        break\n"
      ],
      "execution_count": 0,
      "outputs": []
    },
    {
      "cell_type": "markdown",
      "metadata": {
        "id": "S-Z7zi_RWZa0",
        "colab_type": "text"
      },
      "source": [
        "## 2.2 Random Initialization\n",
        "\n",
        "When training neural networks, it is important to randomly initialize the parameters for symmetry breaking. One effective strategy for random initialization is to randomly select values for $\\Theta^{(l)}$ uniformly in the range $[-\\epsilon_{init}, \\epsilon_{init}]$. You should use $\\epsilon_{init} = 0.12$. This range of values ensures that the parameters are kept small and makes the learning more efficient.\n",
        "\n",
        "<div class=\"alert alert-box alert-warning\">\n",
        "One effective strategy for choosing $\\epsilon_{init}$ is to base it on the number of units in the network. A good choice of $\\epsilon_{init}$ is $\\epsilon_{init} = \\frac{\\sqrt{6}}{\\sqrt{L_{in} + L_{out}}}$ where $L_{in} = s_l$ and $L_{out} = s_{l+1}$ are the number of units in the layers adjacent to $\\Theta^{l}$.\n",
        "</div>\n",
        "\n",
        "Your job is to complete the function `randInitializeWeights` to initialize the weights for $\\Theta$. Modify the function by filling in the following code:\n",
        "\n",
        "```python\n",
        "# Randomly initialize the weights to small values\n",
        "W = np.random.rand(L_out, 1 + L_in) * 2 * epsilon_init - epsilon_init\n",
        "```\n",
        "Note that we give the function an argument for $\\epsilon$ with default value `epsilon_init = 0.12`."
      ]
    },
    {
      "cell_type": "code",
      "metadata": {
        "id": "fB8atDjQWZa2",
        "colab_type": "code",
        "colab": {}
      },
      "source": [
        "def randInitializeWeights(L_in, L_out, epsilon_init=0.12):\n",
        "    \"\"\"\n",
        "    Randomly initialize the weights of a layer in a neural network.\n",
        "    \n",
        "    Parameters\n",
        "    ----------\n",
        "    L_in : int\n",
        "        Number of incomming connections.\n",
        "    \n",
        "    L_out : int\n",
        "        Number of outgoing connections. \n",
        "    \n",
        "    epsilon_init : float, optional\n",
        "        Range of values which the weight can take from a uniform \n",
        "        distribution.\n",
        "    \n",
        "    Returns\n",
        "    -------\n",
        "    W : array_like\n",
        "        The weight initialiatized to random values.  Note that W should\n",
        "        be set to a matrix of size(L_out, 1 + L_in) as\n",
        "        the first column of W handles the \"bias\" terms.\n",
        "        \n",
        "    Instructions\n",
        "    ------------\n",
        "    Initialize W randomly so that we break the symmetry while training\n",
        "    the neural network. Note that the first column of W corresponds \n",
        "    to the parameters for the bias unit.\n",
        "    \"\"\"\n",
        "\n",
        "    # You need to return the following variables correctly \n",
        "    #W = np.zeros((L_out, 1 + L_in))\n",
        "\n",
        "    # ====================== YOUR CODE HERE ======================\n",
        "    W = np.random.rand(L_out, 1 + L_in) * 2 * epsilon_init - epsilon_init\n",
        "\n",
        "    # ============================================================\n",
        "    return W"
      ],
      "execution_count": 0,
      "outputs": []
    },
    {
      "cell_type": "markdown",
      "metadata": {
        "id": "qKlBFGwOWZa6",
        "colab_type": "text"
      },
      "source": [
        "*You do not need to submit any code for this part of the exercise.*\n",
        "\n",
        "Execute the following cell to initialize the weights for the 2 layers in the neural network using the `randInitializeWeights` function."
      ]
    },
    {
      "cell_type": "code",
      "metadata": {
        "id": "Qoo3BW0_WZa7",
        "colab_type": "code",
        "outputId": "e048afb3-b695-4d24-b4af-0376e1b33392",
        "colab": {
          "base_uri": "https://localhost:8080/",
          "height": 34
        }
      },
      "source": [
        "print('Initializing Neural Network Parameters ...')\n",
        "\n",
        "initial_Theta1 = randInitializeWeights(input_layer_size, hidden_layer_size)\n",
        "initial_Theta2 = randInitializeWeights(hidden_layer_size, num_labels)\n",
        "\n",
        "# Unroll parameters\n",
        "initial_nn_params = np.concatenate([initial_Theta1.ravel(), initial_Theta2.ravel()], axis=0)"
      ],
      "execution_count": 0,
      "outputs": [
        {
          "output_type": "stream",
          "text": [
            "Initializing Neural Network Parameters ...\n"
          ],
          "name": "stdout"
        }
      ]
    },
    {
      "cell_type": "markdown",
      "metadata": {
        "id": "XMBQOnTLWZbH",
        "colab_type": "text"
      },
      "source": [
        "<a id=\"section4\"></a>\n",
        "### 2.3 Backpropagation\n",
        "\n",
        "![](Figures/ex4-backpropagation.png)\n",
        "\n",
        "Now, you will implement the backpropagation algorithm. Recall that the intuition behind the backpropagation algorithm is as follows. Given a training example $(x^{(t)}, y^{(t)})$, we will first run a “forward pass” to compute all the activations throughout the network, including the output value of the hypothesis $h_\\theta(x)$. Then, for each node $j$ in layer $l$, we would like to compute an “error term” $\\delta_j^{(l)}$ that measures how much that node was “responsible” for any errors in our output.\n",
        "\n",
        "For an output node, we can directly measure the difference between the network’s activation and the true target value, and use that to define $\\delta_j^{(3)}$ (since layer 3 is the output layer). For the hidden units, you will compute $\\delta_j^{(l)}$ based on a weighted average of the error terms of the nodes in layer $(l+1)$. In detail, here is the backpropagation algorithm (also depicted in the figure above). You should implement steps 1 to 4 in a loop that processes one example at a time. Concretely, you should implement a for-loop `for t in range(m)` and place steps 1-4 below inside the for-loop, with the $t^{th}$ iteration performing the calculation on the $t^{th}$ training example $(x^{(t)}, y^{(t)})$. Step 5 will divide the accumulated gradients by $m$ to obtain the gradients for the neural network cost function.\n",
        "\n",
        "1. Set the input layer’s values $(a^{(1)})$ to the $t^{th }$training example $x^{(t)}$. Perform a feedforward pass, computing the activations $(z^{(2)}, a^{(2)}, z^{(3)}, a^{(3)})$ for layers 2 and 3. Note that you need to add a `+1` term to ensure that the vectors of activations for layers $a^{(1)}$ and $a^{(2)}$ also include the bias unit. In `numpy`, if a 1 is a column matrix, adding one corresponds to `a_1 = np.concatenate([np.ones((m, 1)), a_1], axis=1)`.\n",
        "\n",
        "1. For each output unit $k$ in layer 3 (the output layer), set \n",
        "$$\\delta_k^{(3)} = \\left(a_k^{(3)} - y_k \\right)$$\n",
        "where $y_k \\in \\{0, 1\\}$ indicates whether the current training example belongs to class $k$ $(y_k = 1)$, or if it belongs to a different class $(y_k = 0)$. You may find logical arrays helpful for this task (explained in the previous programming exercise).\n",
        "\n",
        "1. For the hidden layer $l = 2$, set \n",
        "$$ \\delta^{(2)} = \\left( \\Theta^{(2)} \\right)^T \\delta^{(3)} * g'\\left(z^{(2)} \\right)$$\n",
        "Note that the symbol $*$ performs element wise multiplication in `numpy`.\n",
        "\n",
        "1. Accumulate the gradient from this example using the following formula. Note that you should skip or remove $\\delta_0^{(2)}$. In `numpy`, removing $\\delta_0^{(2)}$ corresponds to `delta_2 = delta_2[1:]`.\n",
        "\n",
        "1. Obtain the (unregularized) gradient for the neural network cost function by dividing the accumulated gradients by $\\frac{1}{m}$:\n",
        "$$ \\frac{\\partial}{\\partial \\Theta_{ij}^{(l)}} J(\\Theta) = D_{ij}^{(l)} = \\frac{1}{m} \\Delta_{ij}^{(l)}$$\n",
        "\n",
        "<div class=\"alert alert-box alert-warning\">\n",
        "**Python/Numpy tip**: You should implement the backpropagation algorithm only after you have successfully completed the feedforward and cost functions. While implementing the backpropagation alogrithm, it is often useful to use the `shape` function to print out the shapes of the variables you are working with if you run into dimension mismatch errors.\n",
        "</div>\n",
        "\n",
        "[Click here to go back and update the function `nnCostFunction` with the backpropagation algorithm](#nnCostFunction)."
      ]
    },
    {
      "cell_type": "markdown",
      "metadata": {
        "id": "n-xye_b4WZbJ",
        "colab_type": "text"
      },
      "source": [
        "After you have implemented the backpropagation algorithm, we will proceed to run gradient checking on your implementation. The gradient check will allow you to increase your confidence that your code is\n",
        "computing the gradients correctly.\n",
        "\n",
        "### 2.4  Gradient checking \n",
        "\n",
        "In your neural network, you are minimizing the cost function $J(\\Theta)$. To perform gradient checking on your parameters, you can imagine “unrolling” the parameters $\\Theta^{(1)}$, $\\Theta^{(2)}$ into a long vector $\\theta$. By doing so, you can think of the cost function being $J(\\Theta)$ instead and use the following gradient checking procedure.\n",
        "\n",
        "Suppose you have a function $f_i(\\theta)$ that purportedly computes $\\frac{\\partial}{\\partial \\theta_i} J(\\theta)$; you’d like to check if $f_i$ is outputting correct derivative values.\n",
        "\n",
        "$$\n",
        "\\text{Let } \\theta^{(i+)} = \\theta + \\begin{bmatrix} 0 \\\\ 0 \\\\ \\vdots \\\\ \\epsilon \\\\ \\vdots \\\\ 0 \\end{bmatrix}\n",
        "\\quad \\text{and} \\quad \\theta^{(i-)} = \\theta - \\begin{bmatrix} 0 \\\\ 0 \\\\ \\vdots \\\\ \\epsilon \\\\ \\vdots \\\\ 0 \\end{bmatrix}\n",
        "$$\n",
        "\n",
        "So, $\\theta^{(i+)}$ is the same as $\\theta$, except its $i^{th}$ element has been incremented by $\\epsilon$. Similarly, $\\theta^{(i−)}$ is the corresponding vector with the $i^{th}$ element decreased by $\\epsilon$. You can now numerically verify $f_i(\\theta)$’s correctness by checking, for each $i$, that:\n",
        "\n",
        "$$ f_i\\left( \\theta \\right) \\approx \\frac{J\\left( \\theta^{(i+)}\\right) - J\\left( \\theta^{(i-)} \\right)}{2\\epsilon} $$\n",
        "\n",
        "The degree to which these two values should approximate each other will depend on the details of $J$. But assuming $\\epsilon = 10^{-4}$, you’ll usually find that the left- and right-hand sides of the above will agree to at least 4 significant digits (and often many more).\n",
        "\n",
        "We have implemented the function to compute the numerical gradient for you in `computeNumericalGradient` (within the file `utils.py`). While you are not required to modify the file, we highly encourage you to take a look at the code to understand how it works.\n",
        "\n",
        "In the next cell we will run the provided function `checkNNGradients` which will create a small neural network and dataset that will be used for checking your gradients. If your backpropagation implementation is correct,\n",
        "you should see a relative difference that is less than 1e-9.\n",
        "\n",
        "<div class=\"alert alert-box alert-success\">\n",
        "**Practical Tip**: When performing gradient checking, it is much more efficient to use a small neural network with a relatively small number of input units and hidden units, thus having a relatively small number\n",
        "of parameters. Each dimension of $\\theta$ requires two evaluations of the cost function and this can be expensive. In the function `checkNNGradients`, our code creates a small random model and dataset which is used with `computeNumericalGradient` for gradient checking. Furthermore, after you are confident that your gradient computations are correct, you should turn off gradient checking before running your learning algorithm.\n",
        "</div>\n",
        "\n",
        "<div class=\"alert alert-box alert-success\">\n",
        "**Practical Tip:** Gradient checking works for any function where you are computing the cost and the gradient. Concretely, you can use the same `computeNumericalGradient` function to check if your gradient implementations for the other exercises are correct too (e.g., logistic regression’s cost function).\n",
        "</div>"
      ]
    },
    {
      "cell_type": "code",
      "metadata": {
        "id": "C1i8A_TXWZbK",
        "colab_type": "code",
        "outputId": "0882a969-23e6-4f3f-9582-57eb20bd38e0",
        "colab": {
          "base_uri": "https://localhost:8080/",
          "height": 765
        }
      },
      "source": [
        "checkNNGradients(nnCostFunction)"
      ],
      "execution_count": 0,
      "outputs": [
        {
          "output_type": "stream",
          "text": [
            "[[-9.278252e-03 -9.278252e-03]\n",
            " [-3.049785e-06 -3.049789e-06]\n",
            " [-1.750601e-04 -1.750601e-04]\n",
            " [-9.626606e-05 -9.626606e-05]\n",
            " [ 8.899120e-03  8.899120e-03]\n",
            " [ 1.428694e-05  1.428694e-05]\n",
            " [ 2.331464e-04  2.331464e-04]\n",
            " [ 1.179827e-04  1.179827e-04]\n",
            " [-8.360108e-03 -8.360108e-03]\n",
            " [-2.593831e-05 -2.593831e-05]\n",
            " [-2.874687e-04 -2.874687e-04]\n",
            " [-1.371497e-04 -1.371497e-04]\n",
            " [ 7.628136e-03  7.628136e-03]\n",
            " [ 3.698832e-05  3.698832e-05]\n",
            " [ 3.353204e-04  3.353203e-04]\n",
            " [ 1.532471e-04  1.532471e-04]\n",
            " [-6.747984e-03 -6.747984e-03]\n",
            " [-4.687598e-05 -4.687598e-05]\n",
            " [-3.762156e-04 -3.762156e-04]\n",
            " [-1.665603e-04 -1.665603e-04]\n",
            " [ 3.145450e-01  3.145450e-01]\n",
            " [ 1.640908e-01  1.640908e-01]\n",
            " [ 1.645679e-01  1.645679e-01]\n",
            " [ 1.583393e-01  1.583393e-01]\n",
            " [ 1.511275e-01  1.511275e-01]\n",
            " [ 1.495683e-01  1.495683e-01]\n",
            " [ 1.110566e-01  1.110566e-01]\n",
            " [ 5.757365e-02  5.757365e-02]\n",
            " [ 5.778674e-02  5.778674e-02]\n",
            " [ 5.592353e-02  5.592353e-02]\n",
            " [ 5.369670e-02  5.369670e-02]\n",
            " [ 5.315421e-02  5.315421e-02]\n",
            " [ 9.740070e-02  9.740070e-02]\n",
            " [ 5.045759e-02  5.045759e-02]\n",
            " [ 5.075302e-02  5.075302e-02]\n",
            " [ 4.916208e-02  4.916208e-02]\n",
            " [ 4.714562e-02  4.714562e-02]\n",
            " [ 4.655972e-02  4.655972e-02]]\n",
            "The above two columns you get should be very similar.\n",
            "(Left-Your Numerical Gradient, Right-Analytical Gradient)\n",
            "\n",
            "If your backpropagation implementation is correct, then \n",
            "the relative difference will be small (less than 1e-9). \n",
            "Relative Difference: 2.47969e-11\n"
          ],
          "name": "stdout"
        }
      ]
    },
    {
      "cell_type": "markdown",
      "metadata": {
        "id": "i4q-poNOWZbW",
        "colab_type": "text"
      },
      "source": [
        "<a id=\"section5\"></a>\n",
        "### 2.5 Regularized Neural Network\n",
        "\n",
        "After you have successfully implemented the backpropagation algorithm, you will add regularization to the gradient. To account for regularization, it turns out that you can add this as an additional term *after* computing the gradients using backpropagation.\n",
        "\n",
        "Specifically, after you have computed $\\Delta_{ij}^{(l)}$ using backpropagation, you should add regularization using\n",
        "\n",
        "$$ \\begin{align} \n",
        "& \\frac{\\partial}{\\partial \\Theta_{ij}^{(l)}} J(\\Theta) = D_{ij}^{(l)} = \\frac{1}{m} \\Delta_{ij}^{(l)} & \\qquad \\text{for } j = 0 \\\\\n",
        "& \\frac{\\partial}{\\partial \\Theta_{ij}^{(l)}} J(\\Theta) = D_{ij}^{(l)} = \\frac{1}{m} \\Delta_{ij}^{(l)} + \\frac{\\lambda}{m} \\Theta_{ij}^{(l)} & \\qquad \\text{for } j \\ge 1\n",
        "\\end{align}\n",
        "$$\n",
        "\n",
        "Note that you should *not* be regularizing the first column of $\\Theta^{(l)}$ which is used for the bias term. Furthermore, in the parameters $\\Theta_{ij}^{(l)}$, $i$ is indexed starting from 1, and $j$ is indexed starting from 0. Thus, \n",
        "\n",
        "$$\n",
        "\\Theta^{(l)} = \\begin{bmatrix}\n",
        "\\Theta_{1,0}^{(i)} & \\Theta_{1,1}^{(l)} & \\cdots \\\\\n",
        "\\Theta_{2,0}^{(i)} & \\Theta_{2,1}^{(l)} & \\cdots \\\\\n",
        "\\vdots &  ~ & \\ddots\n",
        "\\end{bmatrix}\n",
        "$$\n",
        "\n",
        "[Now modify your code that computes grad in `nnCostFunction` to account for regularization.](#nnCostFunction)\n",
        "\n",
        "After you are done, the following cell runs gradient checking on your implementation. If your code is correct, you should expect to see a relative difference that is less than 1e-9."
      ]
    },
    {
      "cell_type": "code",
      "metadata": {
        "id": "vGzaxTguWZbd",
        "colab_type": "code",
        "outputId": "c49f8725-f63d-4a55-9a3e-a68e99214df2",
        "colab": {
          "base_uri": "https://localhost:8080/",
          "height": 833
        }
      },
      "source": [
        "#  Check gradients by running checkNNGradients\n",
        "lambda_ = 3\n",
        "checkNNGradients(nnCostFunction, lambda_)\n",
        "\n",
        "# Also output the costFunction debugging values\n",
        "debug_J, _  = nnCostFunction(nn_params, input_layer_size,\n",
        "                          hidden_layer_size, num_labels, X, y, lambda_)\n",
        "\n",
        "print('\\n\\nCost at (fixed) debugging parameters (w/ lambda = %f): %f ' % (lambda_, debug_J))\n",
        "print('(for lambda = 3, this value should be about 0.576051)')"
      ],
      "execution_count": 0,
      "outputs": [
        {
          "output_type": "stream",
          "text": [
            "[[-9.278252e-03 -9.278252e-03]\n",
            " [-1.676798e-02 -1.676798e-02]\n",
            " [-6.017447e-02 -6.017447e-02]\n",
            " [-1.737047e-02 -1.737047e-02]\n",
            " [ 8.899120e-03  8.899120e-03]\n",
            " [ 3.943348e-02  3.943348e-02]\n",
            " [-3.196123e-02 -3.196123e-02]\n",
            " [-5.756587e-02 -5.756587e-02]\n",
            " [-8.360108e-03 -8.360108e-03]\n",
            " [ 5.933556e-02  5.933556e-02]\n",
            " [ 2.492255e-02  2.492255e-02]\n",
            " [-4.519638e-02 -4.519638e-02]\n",
            " [ 7.628136e-03  7.628136e-03]\n",
            " [ 2.476410e-02  2.476410e-02]\n",
            " [ 5.977176e-02  5.977176e-02]\n",
            " [ 9.145880e-03  9.145880e-03]\n",
            " [-6.747984e-03 -6.747984e-03]\n",
            " [-3.268814e-02 -3.268814e-02]\n",
            " [ 3.864105e-02  3.864105e-02]\n",
            " [ 5.461015e-02  5.461015e-02]\n",
            " [ 3.145450e-01  3.145450e-01]\n",
            " [ 1.186827e-01  1.186827e-01]\n",
            " [ 2.039871e-01  2.039871e-01]\n",
            " [ 1.256981e-01  1.256981e-01]\n",
            " [ 1.763375e-01  1.763375e-01]\n",
            " [ 1.322941e-01  1.322941e-01]\n",
            " [ 1.110566e-01  1.110566e-01]\n",
            " [ 3.819287e-05  3.819287e-05]\n",
            " [ 1.171482e-01  1.171482e-01]\n",
            " [-4.075883e-03 -4.075883e-03]\n",
            " [ 1.131331e-01  1.131331e-01]\n",
            " [-4.529644e-03 -4.529644e-03]\n",
            " [ 9.740070e-02  9.740070e-02]\n",
            " [ 3.369266e-02  3.369266e-02]\n",
            " [ 7.548013e-02  7.548013e-02]\n",
            " [ 1.696771e-02  1.696771e-02]\n",
            " [ 8.616290e-02  8.616290e-02]\n",
            " [ 1.500484e-03  1.500484e-03]]\n",
            "The above two columns you get should be very similar.\n",
            "(Left-Your Numerical Gradient, Right-Analytical Gradient)\n",
            "\n",
            "If your backpropagation implementation is correct, then \n",
            "the relative difference will be small (less than 1e-9). \n",
            "Relative Difference: 2.36255e-11\n",
            "\n",
            "\n",
            "Cost at (fixed) debugging parameters (w/ lambda = 3.000000): 0.576051 \n",
            "(for lambda = 3, this value should be about 0.576051)\n"
          ],
          "name": "stdout"
        }
      ]
    },
    {
      "cell_type": "code",
      "metadata": {
        "id": "irxfV6PxWZbo",
        "colab_type": "code",
        "outputId": "e483c38f-1d0e-4979-9120-574700bb2516",
        "colab": {
          "base_uri": "https://localhost:8080/",
          "height": 34
        }
      },
      "source": [
        "if(abs(debug_J - 0.576) > 0.3):\n",
        "    print(\"You should check your code\")\n",
        "else:\n",
        "    print(\"You are good to go ahead\")"
      ],
      "execution_count": 0,
      "outputs": [
        {
          "output_type": "stream",
          "text": [
            "You are good to go ahead\n"
          ],
          "name": "stdout"
        }
      ]
    },
    {
      "cell_type": "markdown",
      "metadata": {
        "id": "IHPzQZawWZbu",
        "colab_type": "text"
      },
      "source": [
        "### 2.6 Learning parameters using `scipy.optimize.minimize`\n",
        "\n",
        "After you have successfully implemented the neural network cost function\n",
        "and gradient computation, the next step we will use `scipy`'s minimization to learn a good set parameters."
      ]
    },
    {
      "cell_type": "code",
      "metadata": {
        "id": "x2ZZwTfiWZbw",
        "colab_type": "code",
        "colab": {}
      },
      "source": [
        "#  After you have completed the assignment, change the maxiter to a larger\n",
        "#  value to see how more training helps.\n",
        "options= {'maxiter': 400}\n",
        "\n",
        "#  You should also try different values of lambda\n",
        "lambda_ = 1\n",
        "\n",
        "# Create \"short hand\" for the cost function to be minimized\n",
        "costFunction = lambda p: nnCostFunction(p, input_layer_size,\n",
        "                                        hidden_layer_size,\n",
        "                                        num_labels, X, y, lambda_)\n",
        "\n",
        "# Now, costFunction is a function that takes in only one argument\n",
        "# (the neural network parameters)\n",
        "res = optimize.minimize(costFunction,\n",
        "                        initial_nn_params,\n",
        "                        jac=True,\n",
        "                        method='TNC',\n",
        "                        options=options)\n",
        "\n",
        "# get the solution of the optimization\n",
        "nn_params = res.x\n",
        "        \n",
        "# Obtain Theta1 and Theta2 back from nn_params\n",
        "Theta1 = np.reshape(nn_params[:hidden_layer_size * (input_layer_size + 1)],\n",
        "                    (hidden_layer_size, (input_layer_size + 1)))\n",
        "\n",
        "Theta2 = np.reshape(nn_params[(hidden_layer_size * (input_layer_size + 1)):],\n",
        "                    (num_labels, (hidden_layer_size + 1)))"
      ],
      "execution_count": 0,
      "outputs": []
    },
    {
      "cell_type": "markdown",
      "metadata": {
        "id": "nrBdtR_rWZb5",
        "colab_type": "text"
      },
      "source": [
        "After the training completes, we will proceed to report the training accuracy of your classifier by computing the percentage of examples it got correct. If your implementation is correct, you should see a reported\n",
        "training accuracy of about 95.3% (this may vary by about 1% due to the random initialization). It is possible to get higher training accuracies by training the neural network for more iterations. We encourage you to try\n",
        "training the neural network for more iterations (e.g., set `maxiter` to 400) and also vary the regularization parameter $\\lambda$. With the right learning settings, it is possible to get the neural network to perfectly fit the training set."
      ]
    },
    {
      "cell_type": "code",
      "metadata": {
        "id": "s7aE6cSvWZb7",
        "colab_type": "code",
        "outputId": "e24d10e4-5c90-4670-8ce7-8b80f5171359",
        "colab": {
          "base_uri": "https://localhost:8080/",
          "height": 34
        }
      },
      "source": [
        "pred = predict1(Theta1, Theta2, X)\n",
        "print('Training Set Accuracy: %f' % (np.mean(pred == y) * 100))"
      ],
      "execution_count": 0,
      "outputs": [
        {
          "output_type": "stream",
          "text": [
            "Training Set Accuracy: 99.580000\n"
          ],
          "name": "stdout"
        }
      ]
    },
    {
      "cell_type": "markdown",
      "metadata": {
        "id": "3jnbHbmFWZcU",
        "colab_type": "text"
      },
      "source": [
        "## 3 Visualizing the Hidden Layer\n",
        "\n",
        "One way to understand what your neural network is learning is to visualize what the representations captured by the hidden units. Informally, given a particular hidden unit, one way to visualize what it computes is to find an input $x$ that will cause it to activate (that is, to have an activation value \n",
        "($a_i^{(l)}$) close to 1). For the neural network you trained, notice that the $i^{th}$ row of $\\Theta^{(1)}$ is a 401-dimensional vector that represents the parameter for the $i^{th}$ hidden unit. If we discard the bias term, we get a 400 dimensional vector that represents the weights from each input pixel to the hidden unit.\n",
        "\n",
        "Thus, one way to visualize the “representation” captured by the hidden unit is to reshape this 400 dimensional vector into a 20 × 20 image and display it (It turns out that this is equivalent to finding the input that gives the highest activation for the hidden unit, given a “norm” constraint on the input (i.e., $||x||_2 \\le 1$)). \n",
        "\n",
        "The next cell does this by using the `displayData` function and it will show you an image with 25 units,\n",
        "each corresponding to one hidden unit in the network. In your trained network, you should find that the hidden units corresponds roughly to detectors that look for strokes and other patterns in the input."
      ]
    },
    {
      "cell_type": "code",
      "metadata": {
        "id": "uLR5e--eWZcW",
        "colab_type": "code",
        "outputId": "c411ae2b-6a26-4997-ba7b-317c6701835e",
        "colab": {
          "base_uri": "https://localhost:8080/",
          "height": 596
        }
      },
      "source": [
        "displayData(Theta1[:, 1:])"
      ],
      "execution_count": 0,
      "outputs": [
        {
          "output_type": "display_data",
          "data": {
            "image/png": "[encoded data removed]",
            "text/plain": [
              "<Figure size 720x720 with 25 Axes>"
            ]
          },
          "metadata": {
            "tags": []
          }
        }
      ]
    },
    {
      "cell_type": "markdown",
      "metadata": {
        "id": "flj-hRrdWZcd",
        "colab_type": "text"
      },
      "source": [
        "### 3.1 Optional (ungraded) exercise\n",
        "\n",
        "In this part of the exercise, you will get to try out different learning settings for the neural network to see how the performance of the neural network varies with the regularization parameter $\\lambda$ and number of training steps (the `maxiter` option when using `scipy.optimize.minimize`). Neural networks are very powerful models that can form highly complex decision boundaries. Without regularization, it is possible for a neural network to “overfit” a training set so that it obtains close to 100% accuracy on the training set but does not as well on new examples that it has not seen before. You can set the regularization $\\lambda$ to a smaller value and the `maxiter` parameter to a higher number of iterations to see this for youself."
      ]
    },
    {
      "cell_type": "code",
      "metadata": {
        "id": "9Jby-GLWWZce",
        "colab_type": "code",
        "colab": {}
      },
      "source": [
        ""
      ],
      "execution_count": 0,
      "outputs": []
    }
  ]
}