{
  "nbformat": 4,
  "nbformat_minor": 0,
  "metadata": {
    "colab": {
      "name": "Copy of Assignment 2 - QSTP ML.ipynb",
      "version": "0.3.2",
      "provenance": [],
      "collapsed_sections": []
    },
    "language_info": {
      "codemirror_mode": {
        "name": "ipython",
        "version": 3
      },
      "file_extension": ".py",
      "mimetype": "text/x-python",
      "name": "python",
      "nbconvert_exporter": "python",
      "pygments_lexer": "ipython3",
      "version": "3.6.5"
    },
    "kernelspec": {
      "display_name": "Python 3",
      "language": "python",
      "name": "python3"
    }
  },
  "cells": [
    {
      "cell_type": "markdown",
      "metadata": {
        "id": "ahJRv4iakLfE",
        "colab_type": "text"
      },
      "source": [
        "# Programming Exercise 2: Logistic Regression\n",
        "\n",
        "## Introduction\n",
        "\n",
        "In this exercise, you will implement logistic regression and apply it to two different datasets. Before starting on the programming exercise, we strongly recommend watching the video lectures and completing the review questions for the associated topics.\n",
        "\n",
        "All the information you need for solving this assignment is in this notebook, and all the code you will be implementing will take place within this notebook. \n",
        "\n",
        "Before we begin with the exercises, we need to import all libraries required for this programming exercise. \n",
        "\n",
        "You can download all the required libraries by simply googling \"Anaconda install <library name>\" if you have anaconda, and then copy paste the code required in your anaconda prompt / terminal.\n",
        "   \n",
        "For any further queries, you can PM any of the mentors."
      ]
    },
    {
      "cell_type": "code",
      "metadata": {
        "id": "lfh1AcEH3Dff",
        "colab_type": "code",
        "colab": {}
      },
      "source": [
        ""
      ],
      "execution_count": 0,
      "outputs": []
    },
    {
      "cell_type": "code",
      "metadata": {
        "id": "Gk9_T1btkLfK",
        "colab_type": "code",
        "colab": {}
      },
      "source": [
        "\n",
        "# used for manipulating directory paths\n",
        "import os\n",
        "\n",
        "# Scientific and vector computation for python\n",
        "import numpy as np\n",
        "\n",
        "# Plotting library\n",
        "from matplotlib import pyplot\n",
        "\n",
        "# Optimization module in scipy\n",
        "from scipy import optimize\n",
        "import utils\n",
        "\n",
        "# tells matplotlib to embed plots within the notebook\n",
        "%matplotlib inline\n",
        "\n",
        "import sys\n",
        "sys.path.append('..')\n"
      ],
      "execution_count": 0,
      "outputs": []
    },
    {
      "cell_type": "code",
      "metadata": {
        "id": "iWUgOFz36AR2",
        "colab_type": "code",
        "outputId": "d8bbae98-6d7d-4ad3-8b6f-ace569d808e8",
        "colab": {
          "base_uri": "https://localhost:8080/",
          "height": 222
        }
      },
      "source": [
        "!wget --header=\"Host: doc-04-bg-docs.googleusercontent.com\" --header=\"User-Agent: Mozilla/5.0 (Windows NT 10.0; Win64; x64) AppleWebKit/537.36 (KHTML, like Gecko) Chrome/75.0.3770.100 Safari/537.36\" --header=\"Accept: text/html,application/xhtml+xml,application/xml;q=0.9,image/webp,image/apng,*/*;q=0.8,application/signed-exchange;v=b3\" --header=\"Accept-Language: en-IN,en-GB;q=0.9,en-US;q=0.8,en;q=0.7,hi;q=0.6\" --header=\"Referer: https://drive.google.com/drive/search\" --header=\"Cookie: AUTH_g3p4hpsonf7hd4c0plj2k4rdt443r1ke=06327568161912759625|1561363200000|mfju489qib7la07iqubj5hounf7lvpt6\" --header=\"Connection: keep-alive\" \"https://doc-04-bg-docs.googleusercontent.com/docs/securesc/8s7kednttieqmt0sp073f56or4m86ca5/p0icke5tbi9dp93cc2kukag7ls9qh0en/1561363200000/06327568161912759625/06327568161912759625/1o1hv7gw_WrLtsRTihe_Ree1tBwLt1C65?e=download\" -O \"Assignment2QSTPML.zip\" -c"
      ],
      "execution_count": 84,
      "outputs": [
        {
          "output_type": "stream",
          "text": [
            "--2019-06-24 12:57:29--  https://doc-04-bg-docs.googleusercontent.com/docs/securesc/8s7kednttieqmt0sp073f56or4m86ca5/p0icke5tbi9dp93cc2kukag7ls9qh0en/1561363200000/06327568161912759625/06327568161912759625/1o1hv7gw_WrLtsRTihe_Ree1tBwLt1C65?e=download\n",
            "Resolving doc-04-bg-docs.googleusercontent.com (doc-04-bg-docs.googleusercontent.com)... 74.125.141.132, 2607:f8b0:400c:c06::84\n",
            "Connecting to doc-04-bg-docs.googleusercontent.com (doc-04-bg-docs.googleusercontent.com)|74.125.141.132|:443... connected.\n",
            "HTTP request sent, awaiting response... 200 OK\n",
            "Length: 99896 (98K) [application/x-zip-compressed]\n",
            "Saving to: ‘Assignment2QSTPML.zip’\n",
            "\n",
            "\rAssignment2QSTPML.z   0%[                    ]       0  --.-KB/s               \rAssignment2QSTPML.z 100%[===================>]  97.55K  --.-KB/s    in 0.001s  \n",
            "\n",
            "2019-06-24 12:57:30 (83.4 MB/s) - ‘Assignment2QSTPML.zip’ saved [99896/99896]\n",
            "\n"
          ],
          "name": "stdout"
        }
      ]
    },
    {
      "cell_type": "code",
      "metadata": {
        "id": "7IHRLync6De5",
        "colab_type": "code",
        "outputId": "9baff0fb-16d3-46d4-b195-a4c4358ede0c",
        "colab": {
          "base_uri": "https://localhost:8080/",
          "height": 202
        }
      },
      "source": [
        "!unzip Assignment2QSTPML"
      ],
      "execution_count": 85,
      "outputs": [
        {
          "output_type": "stream",
          "text": [
            "Archive:  Assignment2QSTPML.zip\n",
            "  inflating: Assignment2QSTPML/Assignment 2 - QSTP ML.ipynb  \n",
            "   creating: Assignment2QSTPML/Data/\n",
            "  inflating: Assignment2QSTPML/Data/ex2data1.txt  \n",
            "  inflating: Assignment2QSTPML/Data/ex2data2.txt  \n",
            "   creating: Assignment2QSTPML/Figures/\n",
            "  inflating: Assignment2QSTPML/Figures/decision_boundary1.png  \n",
            "  inflating: Assignment2QSTPML/Figures/decision_boundary2.png  \n",
            "  inflating: Assignment2QSTPML/Figures/decision_boundary3.png  \n",
            "  inflating: Assignment2QSTPML/Figures/decision_boundary4.png  \n",
            "  inflating: Assignment2QSTPML/utils.py  \n"
          ],
          "name": "stdout"
        }
      ]
    },
    {
      "cell_type": "code",
      "metadata": {
        "id": "4P0HTAZ-6Qe1",
        "colab_type": "code",
        "outputId": "9e91df9b-63ee-456a-a133-cc1cfba18fcb",
        "colab": {
          "base_uri": "https://localhost:8080/",
          "height": 34
        }
      },
      "source": [
        "cd Assignment2QSTPML"
      ],
      "execution_count": 86,
      "outputs": [
        {
          "output_type": "stream",
          "text": [
            "/content/Assignment2QSTPML/Assignment2QSTPML/Assignment2QSTPML\n"
          ],
          "name": "stdout"
        }
      ]
    },
    {
      "cell_type": "markdown",
      "metadata": {
        "id": "XD21Vi3dkLfZ",
        "colab_type": "text"
      },
      "source": [
        "## 1 Logistic Regression\n",
        "\n",
        "In this part of the exercise, you will build a logistic regression model to predict whether a student gets admitted into a university. Suppose that you are the administrator of a university department and\n",
        "you want to determine each applicant’s chance of admission based on their results on two exams. You have historical data from previous applicants that you can use as a training set for logistic regression. For each training example, you have the applicant’s scores on two exams and the admissions\n",
        "decision. Your task is to build a classification model that estimates an applicant’s probability of admission based the scores from those two exams. \n",
        "\n",
        "The following cell will load the data and corresponding labels:"
      ]
    },
    {
      "cell_type": "code",
      "metadata": {
        "id": "Q39nHyTKkLff",
        "colab_type": "code",
        "colab": {}
      },
      "source": [
        "# Load data\n",
        "# The first two columns contains the exam scores and the third column\n",
        "# contains the label.\n",
        "data = np.loadtxt(os.path.join('Data', 'ex2data1.txt'), delimiter=',')\n",
        "X, y = data[:, 0:2], data[:, 2]"
      ],
      "execution_count": 0,
      "outputs": []
    },
    {
      "cell_type": "markdown",
      "metadata": {
        "id": "RiOVTMRokLfv",
        "colab_type": "text"
      },
      "source": [
        "### 1.1 Visualizing the data\n",
        "\n",
        "Before starting to implement any learning algorithm, it is always good to visualize the data if possible. We  display the data on a 2-dimensional plot by calling the function `plotData`. You will now complete the code in `plotData` so that it displays a figure where the axes are the two exam scores, and the positive and negative examples are shown with different markers.\n",
        "\n",
        "To help you get more familiar with plotting, we have left `plotData` empty so you can try to implement it yourself. However, this is an optional (ungraded) exercise. We also provide our implementation below so you can\n",
        "copy it or refer to it. If you choose to copy our example, make sure you learn\n",
        "what each of its commands is doing by consulting the `matplotlib` and `numpy` documentation.\n",
        "\n",
        "```python\n",
        "# Find Indices of Positive and Negative Examples\n",
        "pos = y == 1\n",
        "neg = y == 0\n",
        "\n",
        "# Plot Examples\n",
        "pyplot.plot(X[pos, 0], X[pos, 1], 'k*', lw=2, ms=10)\n",
        "pyplot.plot(X[neg, 0], X[neg, 1], 'ko', mfc='y', ms=8, mec='k', mew=1)\n",
        "```"
      ]
    },
    {
      "cell_type": "code",
      "metadata": {
        "id": "ENdYmm7FkLfz",
        "colab_type": "code",
        "colab": {}
      },
      "source": [
        "def plotData(X, y):\n",
        "    \"\"\"\n",
        "    Plots the data points X and y into a new figure. Plots the data \n",
        "    points with * for the positive examples and o for the negative examples.\n",
        "    \n",
        "    Parameters\n",
        "    ----------\n",
        "    X : array_like\n",
        "        An Mx2 matrix representing the dataset. \n",
        "    \n",
        "    y : array_like\n",
        "        Label values for the dataset. A vector of size (M, ).\n",
        "    \n",
        "    Instructions\n",
        "    ------------\n",
        "    Plot the positive and negative examples on a 2D plot, using the\n",
        "    option 'k*' for the positive examples and 'ko' for the negative examples.    \n",
        "    \"\"\"\n",
        "    # Create New Figure\n",
        "    fig = pyplot.figure()\n",
        "\n",
        "    # ====================== YOUR CODE HERE ======================\n",
        "    # Find Indices of Positive and Negative Examples\n",
        "    pos = y == 1\n",
        "    neg = y == 0\n",
        "    \n",
        "    # Plot Examples\n",
        "    pyplot.plot(X[pos, 0], X[pos, 1], 'k*', lw=2, ms=10)\n",
        "    pyplot.plot(X[neg, 0], X[neg, 1], 'ko', mfc='y', ms=8, mec='k', mew=1)\n",
        "    \n",
        "    # ============================================================"
      ],
      "execution_count": 0,
      "outputs": []
    },
    {
      "cell_type": "markdown",
      "metadata": {
        "id": "Es2A6dFdkLf_",
        "colab_type": "text"
      },
      "source": [
        "Now, we call the implemented function to display the loaded data:"
      ]
    },
    {
      "cell_type": "code",
      "metadata": {
        "id": "O7Y6PVeqkLgD",
        "colab_type": "code",
        "outputId": "81bc34be-3c8c-4afc-8e54-d16a9b17e72c",
        "colab": {
          "base_uri": "https://localhost:8080/",
          "height": 283
        }
      },
      "source": [
        "plotData(X, y)\n",
        "# add axes labels\n",
        "pyplot.xlabel('Exam 1 score')\n",
        "pyplot.ylabel('Exam 2 score')\n",
        "pyplot.legend(['Admitted', 'Not admitted'])\n",
        "pass"
      ],
      "execution_count": 89,
      "outputs": [
        {
          "output_type": "display_data",
          "data": {
            "image/png": "[encoded data removed]",
            "text/plain": [
              "<Figure size 432x288 with 1 Axes>"
            ]
          },
          "metadata": {
            "tags": []
          }
        }
      ]
    },
    {
      "cell_type": "markdown",
      "metadata": {
        "id": "xQyy11RWkLgO",
        "colab_type": "text"
      },
      "source": [
        "<a id=\"section1\"></a>\n",
        "### 1.2 Implementation\n",
        "\n",
        "#### 1.2.1 Warmup exercise: sigmoid function\n",
        "\n",
        "Before you start with the actual cost function, recall that the logistic regression hypothesis is defined as:\n",
        "\n",
        "$$ h_\\theta(x) = g(\\theta^T x)$$\n",
        "\n",
        "where function $g$ is the sigmoid function. The sigmoid function is defined as: \n",
        "\n",
        "$$g(z) = \\frac{1}{1+e^{-z}}$$.\n",
        "\n",
        "Your first step is to implement this function `sigmoid` so it can be\n",
        "called by the rest of your program. When you are finished, try testing a few\n",
        "values by calling `sigmoid(x)` in a new cell. For large positive values of `x`, the sigmoid should be close to 1, while for large negative values, the sigmoid should be close to 0. Evaluating `sigmoid(0)` should give you exactly 0.5. Your code should also work with vectors and matrices. **For a matrix, your function should perform the sigmoid function on every element.**\n",
        "<a id=\"sigmoid\"></a>"
      ]
    },
    {
      "cell_type": "code",
      "metadata": {
        "id": "k52gljftkLgR",
        "colab_type": "code",
        "colab": {}
      },
      "source": [
        "def sigmoid(z):\n",
        "    \"\"\"\n",
        "    Compute sigmoid function given the input z.\n",
        "    \n",
        "    Parameters\n",
        "    ----------\n",
        "    z : array_like\n",
        "        The input to the sigmoid function. This can be a 1-D vector \n",
        "        or a 2-D matrix. \n",
        "    \n",
        "    Returns\n",
        "    -------\n",
        "    g : array_like\n",
        "        The computed sigmoid function. g has the same shape as z, since\n",
        "        the sigmoid is computed element-wise on z.\n",
        "        \n",
        "    Instructions\n",
        "    ------------\n",
        "    Compute the sigmoid of each value of z (z can be a matrix, vector or scalar).\n",
        "    \"\"\"\n",
        "    # convert input to a numpy array\n",
        "    z = np.array(z)\n",
        "    \n",
        "    # You need to return the following variables correctly \n",
        "    g = np.zeros(z.shape)\n",
        "\n",
        "    # ====================== YOUR CODE HERE ======================\n",
        "    import math\n",
        "    g = 1/(1+(math.exp((-1)*z)))\n",
        "\n",
        "\n",
        "    # =============================================================\n",
        "    return g"
      ],
      "execution_count": 0,
      "outputs": []
    },
    {
      "cell_type": "markdown",
      "metadata": {
        "id": "S_NMNwfnkLgd",
        "colab_type": "text"
      },
      "source": [
        "The following cell evaluates the sigmoid function at `z=0`. You should get a value of 0.5. You can also try different values for `z` to experiment with the sigmoid function."
      ]
    },
    {
      "cell_type": "code",
      "metadata": {
        "id": "c5kPpj3mkLgg",
        "colab_type": "code",
        "outputId": "ff60e0c3-027a-4592-f060-047b5ecef9c3",
        "colab": {
          "base_uri": "https://localhost:8080/",
          "height": 34
        }
      },
      "source": [
        "# Test the implementation of sigmoid function here\n",
        "z = 0\n",
        "g = sigmoid(z)\n",
        "\n",
        "print('g(', z, ') = ', g)"
      ],
      "execution_count": 91,
      "outputs": [
        {
          "output_type": "stream",
          "text": [
            "g( 0 ) =  0.5\n"
          ],
          "name": "stdout"
        }
      ]
    },
    {
      "cell_type": "markdown",
      "metadata": {
        "id": "_KyuEI76kLgq",
        "colab_type": "text"
      },
      "source": [
        "<a id=\"section2\"></a>\n",
        "#### 1.2.2 Cost function and gradient\n",
        "\n",
        "Now you will implement the cost function and gradient for logistic regression. Before proceeding we add the intercept term to X. "
      ]
    },
    {
      "cell_type": "code",
      "metadata": {
        "id": "tv5Lpm27kLgt",
        "colab_type": "code",
        "outputId": "dfc74b58-0481-4121-e290-2f1e518c9226",
        "colab": {
          "base_uri": "https://localhost:8080/",
          "height": 1697
        }
      },
      "source": [
        "# Setup the data matrix appropriately, and add ones for the intercept term\n",
        "m, n = X.shape\n",
        "\n",
        "# Add intercept term to X\n",
        "X = np.concatenate([np.ones((m, 1)), X], axis=1)\n",
        "X"
      ],
      "execution_count": 93,
      "outputs": [
        {
          "output_type": "execute_result",
          "data": {
            "text/plain": [
              "array([[ 1.        , 34.62365962, 78.02469282],\n",
              "       [ 1.        , 30.28671077, 43.89499752],\n",
              "       [ 1.        , 35.84740877, 72.90219803],\n",
              "       [ 1.        , 60.18259939, 86.3085521 ],\n",
              "       [ 1.        , 79.03273605, 75.34437644],\n",
              "       [ 1.        , 45.08327748, 56.31637178],\n",
              "       [ 1.        , 61.10666454, 96.51142588],\n",
              "       [ 1.        , 75.02474557, 46.55401354],\n",
              "       [ 1.        , 76.0987867 , 87.42056972],\n",
              "       [ 1.        , 84.43281996, 43.53339331],\n",
              "       [ 1.        , 95.86155507, 38.22527806],\n",
              "       [ 1.        , 75.01365839, 30.60326323],\n",
              "       [ 1.        , 82.30705337, 76.4819633 ],\n",
              "       [ 1.        , 69.36458876, 97.71869196],\n",
              "       [ 1.        , 39.53833914, 76.03681085],\n",
              "       [ 1.        , 53.97105215, 89.20735014],\n",
              "       [ 1.        , 69.07014406, 52.74046973],\n",
              "       [ 1.        , 67.94685548, 46.67857411],\n",
              "       [ 1.        , 70.66150955, 92.92713789],\n",
              "       [ 1.        , 76.97878373, 47.57596365],\n",
              "       [ 1.        , 67.37202755, 42.83843832],\n",
              "       [ 1.        , 89.67677575, 65.79936593],\n",
              "       [ 1.        , 50.53478829, 48.85581153],\n",
              "       [ 1.        , 34.21206098, 44.2095286 ],\n",
              "       [ 1.        , 77.92409145, 68.97235999],\n",
              "       [ 1.        , 62.27101367, 69.95445795],\n",
              "       [ 1.        , 80.19018075, 44.82162893],\n",
              "       [ 1.        , 93.1143888 , 38.80067034],\n",
              "       [ 1.        , 61.83020602, 50.25610789],\n",
              "       [ 1.        , 38.7858038 , 64.99568096],\n",
              "       [ 1.        , 61.37928945, 72.80788731],\n",
              "       [ 1.        , 85.40451939, 57.05198398],\n",
              "       [ 1.        , 52.10797973, 63.12762377],\n",
              "       [ 1.        , 52.04540477, 69.43286012],\n",
              "       [ 1.        , 40.23689374, 71.16774802],\n",
              "       [ 1.        , 54.63510555, 52.21388588],\n",
              "       [ 1.        , 33.91550011, 98.86943574],\n",
              "       [ 1.        , 64.17698887, 80.90806059],\n",
              "       [ 1.        , 74.78925296, 41.57341523],\n",
              "       [ 1.        , 34.18364003, 75.23772034],\n",
              "       [ 1.        , 83.90239366, 56.30804622],\n",
              "       [ 1.        , 51.54772027, 46.85629026],\n",
              "       [ 1.        , 94.44336777, 65.56892161],\n",
              "       [ 1.        , 82.36875376, 40.61825516],\n",
              "       [ 1.        , 51.04775177, 45.82270146],\n",
              "       [ 1.        , 62.22267576, 52.06099195],\n",
              "       [ 1.        , 77.19303493, 70.4582    ],\n",
              "       [ 1.        , 97.77159928, 86.72782233],\n",
              "       [ 1.        , 62.0730638 , 96.76882412],\n",
              "       [ 1.        , 91.5649745 , 88.69629255],\n",
              "       [ 1.        , 79.94481794, 74.16311935],\n",
              "       [ 1.        , 99.27252693, 60.999031  ],\n",
              "       [ 1.        , 90.54671411, 43.39060181],\n",
              "       [ 1.        , 34.52451385, 60.39634246],\n",
              "       [ 1.        , 50.28649612, 49.80453881],\n",
              "       [ 1.        , 49.58667722, 59.80895099],\n",
              "       [ 1.        , 97.64563396, 68.86157272],\n",
              "       [ 1.        , 32.57720017, 95.59854761],\n",
              "       [ 1.        , 74.24869137, 69.82457123],\n",
              "       [ 1.        , 71.79646206, 78.45356225],\n",
              "       [ 1.        , 75.39561147, 85.75993667],\n",
              "       [ 1.        , 35.28611282, 47.02051395],\n",
              "       [ 1.        , 56.2538175 , 39.26147251],\n",
              "       [ 1.        , 30.05882245, 49.59297387],\n",
              "       [ 1.        , 44.66826172, 66.45008615],\n",
              "       [ 1.        , 66.56089447, 41.09209808],\n",
              "       [ 1.        , 40.45755098, 97.53518549],\n",
              "       [ 1.        , 49.07256322, 51.88321182],\n",
              "       [ 1.        , 80.27957401, 92.11606081],\n",
              "       [ 1.        , 66.74671857, 60.99139403],\n",
              "       [ 1.        , 32.72283304, 43.30717306],\n",
              "       [ 1.        , 64.03932042, 78.03168802],\n",
              "       [ 1.        , 72.34649423, 96.22759297],\n",
              "       [ 1.        , 60.45788574, 73.0949981 ],\n",
              "       [ 1.        , 58.84095622, 75.85844831],\n",
              "       [ 1.        , 99.8278578 , 72.36925193],\n",
              "       [ 1.        , 47.26426911, 88.475865  ],\n",
              "       [ 1.        , 50.4581598 , 75.80985953],\n",
              "       [ 1.        , 60.45555629, 42.50840944],\n",
              "       [ 1.        , 82.22666158, 42.71987854],\n",
              "       [ 1.        , 88.91389642, 69.8037889 ],\n",
              "       [ 1.        , 94.83450672, 45.6943068 ],\n",
              "       [ 1.        , 67.31925747, 66.58935318],\n",
              "       [ 1.        , 57.23870632, 59.51428198],\n",
              "       [ 1.        , 80.366756  , 90.9601479 ],\n",
              "       [ 1.        , 68.46852179, 85.5943071 ],\n",
              "       [ 1.        , 42.07545454, 78.844786  ],\n",
              "       [ 1.        , 75.47770201, 90.424539  ],\n",
              "       [ 1.        , 78.63542435, 96.64742717],\n",
              "       [ 1.        , 52.34800399, 60.76950526],\n",
              "       [ 1.        , 94.09433113, 77.15910509],\n",
              "       [ 1.        , 90.44855097, 87.50879176],\n",
              "       [ 1.        , 55.48216114, 35.57070347],\n",
              "       [ 1.        , 74.49269242, 84.84513685],\n",
              "       [ 1.        , 89.84580671, 45.35828361],\n",
              "       [ 1.        , 83.48916274, 48.3802858 ],\n",
              "       [ 1.        , 42.26170081, 87.10385094],\n",
              "       [ 1.        , 99.31500881, 68.77540947],\n",
              "       [ 1.        , 55.34001756, 64.93193801],\n",
              "       [ 1.        , 74.775893  , 89.5298129 ]])"
            ]
          },
          "metadata": {
            "tags": []
          },
          "execution_count": 93
        }
      ]
    },
    {
      "cell_type": "markdown",
      "metadata": {
        "id": "yqRGfEREkLg8",
        "colab_type": "text"
      },
      "source": [
        "Now, complete the code for the function `costFunction` to return the cost and gradient. Recall that the cost function in logistic regression is\n",
        "\n",
        "$$ J(\\theta) = \\frac{1}{m} \\sum_{i=1}^{m} \\left[ -y^{(i)} \\log\\left(h_\\theta\\left( x^{(i)} \\right) \\right) - \\left( 1 - y^{(i)}\\right) \\log \\left( 1 - h_\\theta\\left( x^{(i)} \\right) \\right) \\right]$$\n",
        "\n",
        "and the gradient of the cost is a vector of the same length as $\\theta$ where the $j^{th}$\n",
        "element (for $j = 0, 1, \\cdots , n$) is defined as follows:\n",
        "\n",
        "$$ \\frac{\\partial J(\\theta)}{\\partial \\theta_j} = \\frac{1}{m} \\sum_{i=1}^m \\left( h_\\theta \\left( x^{(i)} \\right) - y^{(i)} \\right) x_j^{(i)} $$\n",
        "\n",
        "Note that while this gradient looks identical to the linear regression gradient, the formula is actually different because linear and logistic regression have different definitions of $h_\\theta(x)$.\n",
        "<a id=\"costFunction\"></a>"
      ]
    },
    {
      "cell_type": "code",
      "metadata": {
        "id": "DrHfZpaYkLhD",
        "colab_type": "code",
        "colab": {}
      },
      "source": [
        "def costFunction(theta, X, y):\n",
        "    \"\"\"\n",
        "    Compute cost and gradient for logistic regression. \n",
        "    \n",
        "    Parameters\n",
        "    ----------\n",
        "    theta : array_like\n",
        "        The parameters for logistic regression. This a vector\n",
        "        of shape (n+1, ).\n",
        "    \n",
        "    X : array_like\n",
        "        The input dataset of shape (m x n+1) where m is the total number\n",
        "        of data points and n is the number of features. We assume the \n",
        "        intercept has already been added to the input.\n",
        "    \n",
        "    y : arra_like\n",
        "        Labels for the input. This is a vector of shape (m, ).\n",
        "    \n",
        "    Returns\n",
        "    -------\n",
        "    J : float\n",
        "        The computed value for the cost function. \n",
        "    \n",
        "    grad : array_like\n",
        "        A vector of shape (n+1, ) which is the gradient of the cost\n",
        "        function with respect to theta, at the current values of theta.\n",
        "        \n",
        "    Instructions\n",
        "    ------------\n",
        "    Compute the cost of a particular choice of theta. You should set J to \n",
        "    the cost. Compute the partial derivatives and set grad to the partial\n",
        "    derivatives of the cost w.r.t. each parameter in theta.\n",
        "    \"\"\"\n",
        "    # Initialize some useful values\n",
        "    m = y.size  # number of training examples\n",
        "\n",
        "    # You need to return the following variables correctly \n",
        "    J = 0\n",
        "    grad = np.zeros(theta.shape)\n",
        "\n",
        "    # ====================== YOUR CODE HERE ======================\n",
        "    import math\n",
        "    theta= theta[ :,None]\n",
        "    y = y[ :,None]\n",
        "    grad1 = np.dot(X,theta)\n",
        "    h_theta_x = np.zeros(m)\n",
        "    h_theta_x = h_theta_x[ :,None]\n",
        "    grad = grad[ :, None]\n",
        "    for i in range (m):\n",
        "      h_theta_x[i] = h_theta_x[i] + (1/(1+(math.exp((-1)*(grad1[i])))))\n",
        "    grad2 = np.zeros(m)\n",
        "    grad2 = grad2[ :,None]\n",
        "    for i in range(m):\n",
        "      grad2[i] = grad2[i] + (h_theta_x [i]- y[i])\n",
        "    X1 = np.transpose(X)\n",
        "    mult = np.dot(X1,grad2)\n",
        "    for i in range (3):\n",
        "      grad[i] = grad[i] +mult[i]\n",
        "    for i  in range (3):\n",
        "      grad[i] = grad[i]/m\n",
        "    \n",
        "    ones = np.ones(m)\n",
        "    ones = ones[:, None]\n",
        "    J1 = np.zeros(m)\n",
        "    J1 =J1[:, None]\n",
        "    J2 = np.zeros(m)\n",
        "    J2 = J2[:, None]\n",
        "    J3 = np.zeros(m)\n",
        "    J3 = J3[:, None]\n",
        "    for i in range (m):\n",
        "      J1[i] = J1[i] + y[i]*math.log(h_theta_x[i])\n",
        "      J2[i] = J2[i] + (ones[i] - y[i])*math.log(ones[i] - h_theta_x[i])\n",
        "      J3[i] = J3[i] + J1[i] + J2[i]\n",
        "    sum_J = J3.sum()\n",
        "    sum_J = -(1/m)*sum_J\n",
        "    J = sum_J\n",
        "    grad = grad.reshape(3,)\n",
        "    # =============================================================\n",
        "    return J, grad"
      ],
      "execution_count": 0,
      "outputs": []
    },
    {
      "cell_type": "markdown",
      "metadata": {
        "id": "MF9fZXuHkLhi",
        "colab_type": "text"
      },
      "source": [
        "Once you are done call your `costFunction` using two test cases for  $\\theta$ by executing the next cell."
      ]
    },
    {
      "cell_type": "code",
      "metadata": {
        "id": "iiQMb5S-kLhm",
        "colab_type": "code",
        "outputId": "03eb9cb7-5e1e-49da-8f84-093a0071f6c7",
        "colab": {
          "base_uri": "https://localhost:8080/",
          "height": 269
        }
      },
      "source": [
        "# Initialize fitting parameters\n",
        "initial_theta = np.zeros(n+1)\n",
        "\n",
        "cost, grad = costFunction(initial_theta, X, y)\n",
        "\n",
        "print('Cost at initial theta (zeros): {:.3f}'.format(cost))\n",
        "print('Expected cost (approx): 0.693\\n')\n",
        "\n",
        "print('Gradient at initial theta (zeros):')\n",
        "print('\\t[{:.4f}, {:.4f}, {:.4f}]'.format(*grad))\n",
        "print('Expected gradients (approx):\\n\\t[-0.1000, -12.0092, -11.2628]\\n')\n",
        "\n",
        "# Compute and display cost and gradient with non-zero theta\n",
        "test_theta = np.array([-24, 0.2, 0.2])\n",
        "cost, grad = costFunction(test_theta, X, y)\n",
        "\n",
        "print('Cost at test theta: {:.3f}'.format(cost))\n",
        "print('Expected cost (approx): 0.218\\n')\n",
        "\n",
        "print('Gradient at test theta:')\n",
        "print('\\t[{:.3f}, {:.3f}, {:.3f}]'.format(*grad))\n",
        "print('Expected gradients (approx):\\n\\t[0.043, 2.566, 2.647]')"
      ],
      "execution_count": 95,
      "outputs": [
        {
          "output_type": "stream",
          "text": [
            "Cost at initial theta (zeros): 0.693\n",
            "Expected cost (approx): 0.693\n",
            "\n",
            "Gradient at initial theta (zeros):\n",
            "\t[-0.1000, -12.0092, -11.2628]\n",
            "Expected gradients (approx):\n",
            "\t[-0.1000, -12.0092, -11.2628]\n",
            "\n",
            "Cost at test theta: 0.218\n",
            "Expected cost (approx): 0.218\n",
            "\n",
            "Gradient at test theta:\n",
            "\t[0.043, 2.566, 2.647]\n",
            "Expected gradients (approx):\n",
            "\t[0.043, 2.566, 2.647]\n"
          ],
          "name": "stdout"
        }
      ]
    },
    {
      "cell_type": "markdown",
      "metadata": {
        "id": "3TnRe17BkLhz",
        "colab_type": "text"
      },
      "source": [
        "#### 1.2.3 Learning parameters using `scipy.optimize`\n",
        "\n",
        "In the previous assignment, you found the optimal parameters of a linear regression model by implementing gradient descent. You wrote a cost function and calculated its gradient, then took a gradient descent step accordingly. This time, instead of taking gradient descent steps, you will use the [`scipy.optimize` module](https://docs.scipy.org/doc/scipy/reference/optimize.html). SciPy is a numerical computing library for `python`. It provides an optimization module for root finding and minimization. As of `scipy 1.0`, the function `scipy.optimize.minimize` is the method to use for optimization problems(both constrained and unconstrained).\n",
        "\n",
        "For logistic regression, you want to optimize the cost function $J(\\theta)$ with parameters $\\theta$.\n",
        "Concretely, you are going to use `optimize.minimize` to find the best parameters $\\theta$ for the logistic regression cost function, given a fixed dataset (of X and y values). You will pass to `optimize.minimize` the following inputs:\n",
        "- `costFunction`: A cost function that, when given the training set and a particular $\\theta$, computes the logistic regression cost and gradient with respect to $\\theta$ for the dataset (X, y). It is important to note that we only pass the name of the function without the parenthesis. This indicates that we are only providing a reference to this function, and not evaluating the result from this function.\n",
        "- `initial_theta`: The initial values of the parameters we are trying to optimize.\n",
        "- `(X, y)`: These are additional arguments to the cost function.\n",
        "- `jac`: Indication if the cost function returns the Jacobian (gradient) along with cost value. (True)\n",
        "- `method`: Optimization method/algorithm to use\n",
        "- `options`: Additional options which might be specific to the specific optimization method. In the following, we only tell the algorithm the maximum number of iterations before it terminates.\n",
        "\n",
        "If you have completed the `costFunction` correctly, `optimize.minimize` will converge on the right optimization parameters and return the final values of the cost and $\\theta$ in a class object. Notice that by using `optimize.minimize`, you did not have to write any loops yourself, or set a learning rate like you did for gradient descent. This is all done by `optimize.minimize`: you only needed to provide a function calculating the cost and the gradient.\n",
        "\n",
        "In the following, we already have code written to call `optimize.minimize` with the correct arguments."
      ]
    },
    {
      "cell_type": "code",
      "metadata": {
        "id": "CLHtmvhQkLh2",
        "colab_type": "code",
        "outputId": "cbfeb816-f25c-4743-cd73-baead73d1b63",
        "colab": {
          "base_uri": "https://localhost:8080/",
          "height": 134
        }
      },
      "source": [
        "# set options for optimize.minimize\n",
        "options= {'maxiter': 400}\n",
        "\n",
        "# see documention for scipy's optimize.minimize  for description about\n",
        "# the different parameters\n",
        "# The function returns an object `OptimizeResult`\n",
        "# We use truncated Newton algorithm for optimization which is \n",
        "# equivalent to MATLAB's fminunc\n",
        "# See https://stackoverflow.com/questions/18801002/fminunc-alternate-in-numpy\n",
        "res = optimize.minimize(costFunction,\n",
        "                        initial_theta,\n",
        "                        (X, y),\n",
        "                        jac=True,\n",
        "                        method='TNC',\n",
        "                        options=options)\n",
        "\n",
        "# the fun property of `OptimizeResult` object returns\n",
        "# the value of costFunction at optimized theta\n",
        "cost = res.fun\n",
        "\n",
        "# the optimized theta is in the x property\n",
        "theta = res.x\n",
        "\n",
        "# Print theta to screen\n",
        "print('Cost at theta found by optimize.minimize: {:.3f}'.format(cost))\n",
        "print('Expected cost (approx): 0.203\\n');\n",
        "\n",
        "print('theta:')\n",
        "print('\\t[{:.3f}, {:.3f}, {:.3f}]'.format(*theta))\n",
        "print('Expected theta (approx):\\n\\t[-25.161, 0.206, 0.201]')"
      ],
      "execution_count": 96,
      "outputs": [
        {
          "output_type": "stream",
          "text": [
            "Cost at theta found by optimize.minimize: 0.203\n",
            "Expected cost (approx): 0.203\n",
            "\n",
            "theta:\n",
            "\t[-25.161, 0.206, 0.201]\n",
            "Expected theta (approx):\n",
            "\t[-25.161, 0.206, 0.201]\n"
          ],
          "name": "stdout"
        }
      ]
    },
    {
      "cell_type": "code",
      "metadata": {
        "id": "rEG6u-NdEiu6",
        "colab_type": "code",
        "outputId": "7fd3e376-d083-49ce-b495-35f90bb1212c",
        "colab": {
          "base_uri": "https://localhost:8080/",
          "height": 34
        }
      },
      "source": [
        "!ls"
      ],
      "execution_count": 97,
      "outputs": [
        {
          "output_type": "stream",
          "text": [
            "'Assignment 2 - QSTP ML.ipynb'\t Data   Figures   utils.py\n"
          ],
          "name": "stdout"
        }
      ]
    },
    {
      "cell_type": "markdown",
      "metadata": {
        "id": "FfEZC_8FkLh_",
        "colab_type": "text"
      },
      "source": [
        "\n",
        "Once `optimize.minimize` completes, we want to use the final value for $\\theta$ to visualize the decision boundary on the training data as shown in the figure below. \n",
        "\n",
        "![](Figures/decision_boundary1.png)\n",
        "\n",
        "To do so, we have written a function `plotDecisionBoundary` for plotting the decision boundary on top of training data. You do not need to write any code for plotting the decision boundary, but we also encourage you to look at the code in `plotDecisionBoundary` to see how to plot such a boundary using the $\\theta$ values. You can find this function in the `utils.py` file which comes with this assignment."
      ]
    },
    {
      "cell_type": "code",
      "metadata": {
        "id": "PCX00XJnkLiD",
        "colab_type": "code",
        "outputId": "2d649c89-8efe-4867-abbc-3ae16af28e50",
        "colab": {
          "base_uri": "https://localhost:8080/",
          "height": 269
        }
      },
      "source": [
        "# Plot Boundary\n",
        "def plotDecisionBoundary(plotData, theta, X, y):\n",
        "    \"\"\"\n",
        "    Plots the data points X and y into a new figure with the decision boundary defined by theta.\n",
        "    Plots the data points with * for the positive examples and o for  the negative examples.\n",
        "\n",
        "    Parameters\n",
        "    ----------\n",
        "    plotData : func\n",
        "        A function reference for plotting the X, y data.\n",
        "\n",
        "    theta : array_like\n",
        "        Parameters for logistic regression. A vector of shape (n+1, ).\n",
        "\n",
        "    X : array_like\n",
        "        The input dataset. X is assumed to be  a either:\n",
        "            1) Mx3 matrix, where the first column is an all ones column for the intercept.\n",
        "            2) MxN, N>3 matrix, where the first column is all ones.\n",
        "\n",
        "    y : array_like\n",
        "        Vector of data labels of shape (m, ).\n",
        "    \"\"\"\n",
        "    # make sure theta is a numpy array\n",
        "    theta = np.array(theta)\n",
        "\n",
        "    # Plot Data (remember first column in X is the intercept)\n",
        "    plotData(X[:, 1:3], y)\n",
        "\n",
        "    if X.shape[1] <= 3:\n",
        "        # Only need 2 points to define a line, so choose two endpoints\n",
        "        plot_x = np.array([np.min(X[:, 1]) - 2, np.max(X[:, 1]) + 2])\n",
        "\n",
        "        # Calculate the decision boundary line\n",
        "        plot_y = (-1. / theta[2]) * (theta[1] * plot_x + theta[0])\n",
        "\n",
        "        # Plot, and adjust axes for better viewing\n",
        "        pyplot.plot(plot_x, plot_y)\n",
        "\n",
        "        # Legend, specific for the exercise\n",
        "        pyplot.legend(['Admitted', 'Not admitted', 'Decision Boundary'])\n",
        "        pyplot.xlim([30, 100])\n",
        "        pyplot.ylim([30, 100])\n",
        "    else:\n",
        "        # Here is the grid range\n",
        "        u = np.linspace(-1, 1.5, 50)\n",
        "        v = np.linspace(-1, 1.5, 50)\n",
        "\n",
        "        z = np.zeros((u.size, v.size))\n",
        "        # Evaluate z = theta*x over the grid\n",
        "        for i, ui in enumerate(u):\n",
        "            for j, vj in enumerate(v):\n",
        "                z[i, j] = np.dot(mapFeature(ui, vj), theta)\n",
        "\n",
        "        z = z.T  # important to transpose z before calling contour\n",
        "        # print(z)\n",
        "\n",
        "        # Plot z = 0\n",
        "        pyplot.contour(u, v, z, levels=[0], linewidths=2, colors='g')\n",
        "        pyplot.contourf(u, v, z, levels=[np.min(z), 0, np.max(z)], cmap='Greens', alpha=0.4)\n",
        "\n",
        "\n",
        "plotDecisionBoundary(plotData, theta, X, y)\n",
        "    \n"
      ],
      "execution_count": 98,
      "outputs": [
        {
          "output_type": "display_data",
          "data": {
            "image/png": "[encoded data removed]",
            "text/plain": [
              "<Figure size 432x288 with 1 Axes>"
            ]
          },
          "metadata": {
            "tags": []
          }
        }
      ]
    },
    {
      "cell_type": "markdown",
      "metadata": {
        "id": "ZLp3w5OdkLiH",
        "colab_type": "text"
      },
      "source": [
        "<a id=\"section4\"></a>\n",
        "#### 1.2.4 Evaluating logistic regression\n",
        "\n",
        "After learning the parameters, you can use the model to predict whether a particular student will be admitted. For a student with an Exam 1 score of 45 and an Exam 2 score of 85, you should expect to see an admission\n",
        "probability of 0.776. Another way to evaluate the quality of the parameters we have found is to see how well the learned model predicts on our training set. In this part, your task is to complete the code in function `predict`. The predict function will produce “1” or “0” predictions given a dataset and a learned parameter vector $\\theta$. \n",
        "<a id=\"predict\"></a>"
      ]
    },
    {
      "cell_type": "code",
      "metadata": {
        "id": "X9iesgtCkLiJ",
        "colab_type": "code",
        "colab": {}
      },
      "source": [
        "def predict(theta, X):\n",
        "    \"\"\"\n",
        "    Predict whether the label is 0 or 1 using learned logistic regression.\n",
        "    Computes the predictions for X using a threshold at 0.5 \n",
        "    (i.e., if sigmoid(theta.T*x) >= 0.5, predict 1)\n",
        "    \n",
        "    Parameters\n",
        "    ----------\n",
        "    theta : array_like\n",
        "        Parameters for logistic regression. A vecotor of shape (n+1, ).\n",
        "    \n",
        "    X : array_like\n",
        "        The data to use for computing predictions. The rows is the number \n",
        "        of points to compute predictions, and columns is the number of\n",
        "        features.\n",
        "\n",
        "    Returns\n",
        "    -------\n",
        "    p : array_like\n",
        "        Predictions and 0 or 1 for each row in X. \n",
        "    \n",
        "    Instructions\n",
        "    ------------\n",
        "    Complete the following code to make predictions using your learned \n",
        "    logistic regression parameters.You should set p to a vector of 0's and 1's    \n",
        "    \"\"\"\n",
        "    m = X.shape[0] # Number of training examples\n",
        "\n",
        "    # You need to return the following variables correctly\n",
        "    p = np.zeros(m)\n",
        "\n",
        "    # ====================== YOUR CODE HERE ======================\n",
        "    theta = theta[ :,None]\n",
        "    p = p[ :,None]\n",
        "    for i in range (100):\n",
        "      result = theta[0]*X[i][0] + theta[1]*X[i][1] + theta[2]*X[i][2]\n",
        "      if(result >=0.5):\n",
        "        p[i] = 1\n",
        "      else:\n",
        "        p[i] = 0    \n",
        "    # ============================================================\n",
        "    return p"
      ],
      "execution_count": 0,
      "outputs": []
    },
    {
      "cell_type": "markdown",
      "metadata": {
        "id": "2zWUZ-d_kLiM",
        "colab_type": "text"
      },
      "source": [
        "After you have completed the code in `predict`, we proceed to report the training accuracy of your classifier by computing the percentage of examples it got correct."
      ]
    },
    {
      "cell_type": "code",
      "metadata": {
        "id": "8FsSZHgukLiN",
        "colab_type": "code",
        "colab": {
          "base_uri": "https://localhost:8080/",
          "height": 101
        },
        "outputId": "15c453f5-b7d1-4c46-f6a6-fc0d9c194123"
      },
      "source": [
        "#  Predict probability for a student with score 45 on exam 1 \n",
        "#  and score 85 on exam 2 \n",
        "prob = sigmoid(np.dot([1, 45, 85], theta))\n",
        "print('For a student with scores 45 and 85,'\n",
        "      'we predict an admission probability of {:.3f}'.format(prob))\n",
        "print('Expected value: 0.775 +/- 0.002\\n')\n",
        "\n",
        "# Compute accuracy on our training set\n",
        "p = predict(theta, X)\n",
        "print('Train Accuracy: {:.2f} %'.format(np.mean(p == y) * 100))\n",
        "print('Expected accuracy (approx): 89.00 %')"
      ],
      "execution_count": 102,
      "outputs": [
        {
          "output_type": "stream",
          "text": [
            "For a student with scores 45 and 85,we predict an admission probability of 0.776\n",
            "Expected value: 0.775 +/- 0.002\n",
            "\n",
            "Train Accuracy: 51.40 %\n",
            "Expected accuracy (approx): 89.00 %\n"
          ],
          "name": "stdout"
        }
      ]
    },
    {
      "cell_type": "markdown",
      "metadata": {
        "id": "EwMxDc-ckLiU",
        "colab_type": "text"
      },
      "source": [
        "## 2 Regularized logistic regression\n",
        "\n",
        "In this part of the exercise, you will implement regularized logistic regression to predict whether microchips from a fabrication plant passes quality assurance (QA). During QA, each microchip goes through various tests to ensure it is functioning correctly.\n",
        "Suppose you are the product manager of the factory and you have the test results for some microchips on two different tests. From these two tests, you would like to determine whether the microchips should be accepted or rejected. To help you make the decision, you have a dataset of test results on past microchips, from which you can build a logistic regression model.\n",
        "\n",
        "First, we load the data from a CSV file:"
      ]
    },
    {
      "cell_type": "code",
      "metadata": {
        "id": "77yL2LcnkLiW",
        "colab_type": "code",
        "colab": {}
      },
      "source": [
        "# Load Data\n",
        "# The first two columns contains the X values and the third column\n",
        "# contains the label (y).\n",
        "data = np.loadtxt(os.path.join('Data', 'ex2data2.txt'), delimiter=',')\n",
        "X = data[:, :2]\n",
        "y = data[:, 2]"
      ],
      "execution_count": 0,
      "outputs": []
    },
    {
      "cell_type": "markdown",
      "metadata": {
        "id": "GtL2fFX3kLib",
        "colab_type": "text"
      },
      "source": [
        "### 2.1 Visualize the data\n",
        "\n",
        "Similar to the previous parts of this exercise, `plotData` is used to generate a figure, where the axes are the two test scores, and the positive (y = 1, accepted) and negative (y = 0, rejected) examples are shown with\n",
        "different markers."
      ]
    },
    {
      "cell_type": "code",
      "metadata": {
        "id": "fItuYMjAkLic",
        "colab_type": "code",
        "colab": {
          "base_uri": "https://localhost:8080/",
          "height": 283
        },
        "outputId": "319d3bcb-ed6b-4569-edd7-03f020ea71d3"
      },
      "source": [
        "plotData(X, y)\n",
        "# Labels and Legend\n",
        "pyplot.xlabel('Microchip Test 1')\n",
        "pyplot.ylabel('Microchip Test 2')\n",
        "\n",
        "# Specified in plot order\n",
        "pyplot.legend(['y = 1', 'y = 0'], loc='upper right')\n",
        "pass"
      ],
      "execution_count": 104,
      "outputs": [
        {
          "output_type": "display_data",
          "data": {
            "image/png": "[encoded data removed]",
            "text/plain": [
              "<Figure size 432x288 with 1 Axes>"
            ]
          },
          "metadata": {
            "tags": []
          }
        }
      ]
    },
    {
      "cell_type": "markdown",
      "metadata": {
        "id": "KnnoTsTAkLih",
        "colab_type": "text"
      },
      "source": [
        "The above figure shows that our dataset cannot be separated into positive and negative examples by a straight-line through the plot. Therefore, a straight-forward application of logistic regression will not perform well on this dataset since logistic regression will only be able to find a linear decision boundary.\n",
        "\n",
        "### 2.2 Feature mapping\n",
        "\n",
        "One way to fit the data better is to create more features from each data point. In the function `mapFeature` defined in the file `utils.py`, we will map the features into all polynomial terms of $x_1$ and $x_2$ up to the sixth power.\n",
        "\n",
        "$$ \\text{mapFeature}(x) = \\begin{bmatrix} 1 & x_1 & x_2 & x_1^2 & x_1 x_2 & x_2^2 & x_1^3 & \\dots & x_1 x_2^5 & x_2^6 \\end{bmatrix}^T $$\n",
        "\n",
        "As a result of this mapping, our vector of two features (the scores on two QA tests) has been transformed into a 28-dimensional vector. A logistic regression classifier trained on this higher-dimension feature vector will have a more complex decision boundary and will appear nonlinear when drawn in our 2-dimensional plot.\n",
        "While the feature mapping allows us to build a more expressive classifier, it also more susceptible to overfitting. In the next parts of the exercise, you will implement regularized logistic regression to fit the data and also see for yourself how regularization can help combat the overfitting problem.\n"
      ]
    },
    {
      "cell_type": "code",
      "metadata": {
        "id": "tFVZ4EpCkLii",
        "colab_type": "code",
        "colab": {}
      },
      "source": [
        "# Note that mapFeature also adds a column of ones for us, so the intercept\n",
        "# term is handled\n",
        "\n",
        "def mapFeature(X1, X2, degree=6):\n",
        "    \"\"\"\n",
        "    Maps the two input features to quadratic features used in the regularization exercise.\n",
        "\n",
        "    Returns a new feature array with more features, comprising of\n",
        "    X1, X2, X1.^2, X2.^2, X1*X2, X1*X2.^2, etc..\n",
        "\n",
        "    Parameters\n",
        "    ----------\n",
        "    X1 : array_like\n",
        "        A vector of shape (m, 1), containing one feature for all examples.\n",
        "\n",
        "    X2 : array_like\n",
        "        A vector of shape (m, 1), containing a second feature for all examples.\n",
        "        Inputs X1, X2 must be the same size.\n",
        "\n",
        "    degree: int, optional\n",
        "        The polynomial degree.\n",
        "\n",
        "    Returns\n",
        "    -------\n",
        "    : array_like\n",
        "        A matrix of of m rows, and columns depend on the degree of polynomial.\n",
        "    \"\"\"\n",
        "    if X1.ndim > 0:\n",
        "        out = [np.ones(X1.shape[0])]\n",
        "    else:\n",
        "        out = [np.ones(1)]\n",
        "\n",
        "    for i in range(1, degree + 1):\n",
        "        for j in range(i + 1):\n",
        "            out.append((X1 ** (i - j)) * (X2 ** j))\n",
        "\n",
        "    if X1.ndim > 0:\n",
        "        return np.stack(out, axis=1)\n",
        "    else:\n",
        "        return np.array(out)\n",
        "      \n",
        "X = mapFeature(X[:, 0], X[:, 1])"
      ],
      "execution_count": 0,
      "outputs": []
    },
    {
      "cell_type": "markdown",
      "metadata": {
        "id": "zEmCQuyWkLiq",
        "colab_type": "text"
      },
      "source": [
        "<a id=\"section5\"></a>\n",
        "### 2.3 Cost function and gradient\n",
        "\n",
        "Now you will implement code to compute the cost function and gradient for regularized logistic regression. Complete the code for the function `costFunctionReg` below to return the cost and gradient.\n",
        "\n",
        "Recall that the regularized cost function in logistic regression is\n",
        "\n",
        "$$ J(\\theta) = \\frac{1}{m} \\sum_{i=1}^m \\left[ -y^{(i)}\\log \\left( h_\\theta \\left(x^{(i)} \\right) \\right) - \\left( 1 - y^{(i)} \\right) \\log \\left( 1 - h_\\theta \\left( x^{(i)} \\right) \\right) \\right] + \\frac{\\lambda}{2m} \\sum_{j=1}^n \\theta_j^2 $$\n",
        "\n",
        "Note that you should not regularize the parameters $\\theta_0$. The gradient of the cost function is a vector where the $j^{th}$ element is defined as follows:\n",
        "\n",
        "$$ \\frac{\\partial J(\\theta)}{\\partial \\theta_0} = \\frac{1}{m} \\sum_{i=1}^m \\left( h_\\theta \\left(x^{(i)}\\right) - y^{(i)} \\right) x_j^{(i)} \\qquad \\text{for } j =0 $$\n",
        "\n",
        "$$ \\frac{\\partial J(\\theta)}{\\partial \\theta_j} = \\left( \\frac{1}{m} \\sum_{i=1}^m \\left( h_\\theta \\left(x^{(i)}\\right) - y^{(i)} \\right) x_j^{(i)} \\right) + \\frac{\\lambda}{m}\\theta_j \\qquad \\text{for } j \\ge 1 $$\n",
        "<a id=\"costFunctionReg\"></a>"
      ]
    },
    {
      "cell_type": "code",
      "metadata": {
        "id": "yZEE7B-skLis",
        "colab_type": "code",
        "colab": {}
      },
      "source": [
        "def costFunctionReg(theta, X, y, lambda_):\n",
        "    \"\"\"\n",
        "    Compute cost and gradient for logistic regression with regularization.\n",
        "    \n",
        "    Parameters\n",
        "    ----------\n",
        "    theta : array_like\n",
        "        Logistic regression parameters. A vector with shape (n, ). n is \n",
        "        the number of features including any intercept. If we have mapped\n",
        "        our initial features into polynomial features, then n is the total \n",
        "        number of polynomial features. \n",
        "    \n",
        "    X : array_like\n",
        "        The data set with shape (m x n). m is the number of examples, and\n",
        "        n is the number of features (after feature mapping).\n",
        "    \n",
        "    y : array_like\n",
        "        The data labels. A vector with shape (m, ).\n",
        "    \n",
        "    lambda_ : float\n",
        "        The regularization parameter. \n",
        "    \n",
        "    Returns\n",
        "    -------\n",
        "    J : float\n",
        "        The computed value for the regularized cost function. \n",
        "    \n",
        "    grad : array_like\n",
        "        A vector of shape (n, ) which is the gradient of the cost\n",
        "        function with respect to theta, at the current values of theta.\n",
        "    \n",
        "    Instructions\n",
        "    ------------\n",
        "    Compute the cost `J` of a particular choice of theta.\n",
        "    Compute the partial derivatives and set `grad` to the partial\n",
        "    derivatives of the cost w.r.t. each parameter in theta.\n",
        "    \"\"\"\n",
        "    # Initialize some useful values\n",
        "    m = y.size  # number of training examples\n",
        "\n",
        "    # You need to return the following variables correctly \n",
        "    J = 0\n",
        "    grad = np.zeros(theta.shape)\n",
        "\n",
        "    # ===================== YOUR CODE HERE ======================\n",
        "\n",
        "    import math\n",
        "    theta= theta[ :,None]\n",
        "    y = y[ :,None]\n",
        "    grad1 = np.dot(X,theta)\n",
        "    h_theta_x = np.zeros(m)\n",
        "    h_theta_x = h_theta_x[ :,None]\n",
        "    grad = grad[ :, None]\n",
        "    for i in range (m):\n",
        "      h_theta_x[i] = h_theta_x[i] + (1/(1+(math.exp((-1)*(grad1[i])))))\n",
        "    grad2 = np.zeros(m)\n",
        "    grad2 = grad2[ :,None]\n",
        "    for i in range(m):\n",
        "      grad2[i] = grad2[i] + (h_theta_x [i]- y[i])\n",
        "    X1 = np.transpose(X)\n",
        "    mult = np.dot(X1,grad2)\n",
        "    for i in range (28):\n",
        "      \n",
        "      if(i>0):\n",
        "        grad[i] = grad[i] +mult[i] + lambda_*(theta[i])\n",
        "      else:\n",
        "        grad[i] = grad[i] +mult[i]\n",
        "    for i  in range (28):\n",
        "      grad[i] = grad[i]/m\n",
        "    \n",
        "    ones = np.ones(m)\n",
        "    ones = ones[:, None]\n",
        "    J1 = np.zeros(m)\n",
        "    J1 =J1[:, None]\n",
        "    J2 = np.zeros(m)\n",
        "    J2 = J2[:, None]\n",
        "    J3 = np.zeros(m)\n",
        "    J3 = J3[:, None]\n",
        "    \n",
        "    for i in range (m):\n",
        "      J1[i] = J1[i] + y[i]*math.log(h_theta_x[i])\n",
        "      J2[i] = J2[i] + (ones[i] - y[i])*math.log(ones[i] - h_theta_x[i])\n",
        "      J3[i] = J3[i] + J1[i] + J2[i]\n",
        "    sum_J = J3.sum()\n",
        "    theta1 = np.zeros(28)\n",
        "    for i in range (28):\n",
        "      theta1[i] = theta1[i] + theta[i]*theta[i]\n",
        "    sum_Reg = lambda_/(2*m)*(theta1.sum())\n",
        "    sum_J = -(1/m)*sum_J + sum_Reg\n",
        "    J = sum_J\n",
        "    grad = grad.reshape(28,)\n",
        "    \n",
        "    # =============================================================\n",
        "    return J, grad"
      ],
      "execution_count": 0,
      "outputs": []
    },
    {
      "cell_type": "markdown",
      "metadata": {
        "id": "bOTh-199kLiw",
        "colab_type": "text"
      },
      "source": [
        "Once you are done with the `costFunctionReg`, we call it below using the initial value of $\\theta$ (initialized to all zeros), and also another test case where $\\theta$ is all ones."
      ]
    },
    {
      "cell_type": "code",
      "metadata": {
        "id": "1XC91lX-kLix",
        "colab_type": "code",
        "colab": {
          "base_uri": "https://localhost:8080/",
          "height": 302
        },
        "outputId": "e3531728-03cc-4bfe-f81c-9f5aab6e3976"
      },
      "source": [
        "# Initialize fitting parameters\n",
        "initial_theta = np.zeros(X.shape[1])\n",
        "\n",
        "# Set regularization parameter lambda to 1\n",
        "# DO NOT use `lambda` as a variable name in python\n",
        "# because it is a python keyword\n",
        "lambda_ = 1\n",
        "\n",
        "# Compute and display initial cost and gradient for regularized logistic\n",
        "# regression\n",
        "cost, grad = costFunctionReg(initial_theta, X, y, lambda_)\n",
        "\n",
        "print('Cost at initial theta (zeros): {:.3f}'.format(cost))\n",
        "print('Expected cost (approx)       : 0.693\\n')\n",
        "\n",
        "print('Gradient at initial theta (zeros) - first five values only:')\n",
        "print('\\t[{:.4f}, {:.4f}, {:.4f}, {:.4f}, {:.4f}]'.format(*grad[:5]))\n",
        "print('Expected gradients (approx) - first five values only:')\n",
        "print('\\t[0.0085, 0.0188, 0.0001, 0.0503, 0.0115]\\n')\n",
        "\n",
        "\n",
        "# Compute and display cost and gradient\n",
        "# with all-ones theta and lambda = 10\n",
        "test_theta = np.ones(X.shape[1])\n",
        "cost, grad = costFunctionReg(test_theta, X, y, 10)\n",
        "\n",
        "print('------------------------------\\n')\n",
        "print('Cost at test theta    : {:.2f}'.format(cost))\n",
        "print('Expected cost (approx): 3.16\\n')\n",
        "\n",
        "print('Gradient at initial theta (zeros) - first five values only:')\n",
        "print('\\t[{:.4f}, {:.4f}, {:.4f}, {:.4f}, {:.4f}]'.format(*grad[:5]))\n",
        "print('Expected gradients (approx) - first five values only:')\n",
        "print('\\t[0.3460, 0.1614, 0.1948, 0.2269, 0.0922]')"
      ],
      "execution_count": 107,
      "outputs": [
        {
          "output_type": "stream",
          "text": [
            "Cost at initial theta (zeros): 0.693\n",
            "Expected cost (approx)       : 0.693\n",
            "\n",
            "Gradient at initial theta (zeros) - first five values only:\n",
            "\t[0.0085, 0.0188, 0.0001, 0.0503, 0.0115]\n",
            "Expected gradients (approx) - first five values only:\n",
            "\t[0.0085, 0.0188, 0.0001, 0.0503, 0.0115]\n",
            "\n",
            "------------------------------\n",
            "\n",
            "Cost at test theta    : 3.21\n",
            "Expected cost (approx): 3.16\n",
            "\n",
            "Gradient at initial theta (zeros) - first five values only:\n",
            "\t[0.3460, 0.1614, 0.1948, 0.2269, 0.0922]\n",
            "Expected gradients (approx) - first five values only:\n",
            "\t[0.3460, 0.1614, 0.1948, 0.2269, 0.0922]\n"
          ],
          "name": "stdout"
        }
      ]
    },
    {
      "cell_type": "markdown",
      "metadata": {
        "id": "oc19dgzXkLi0",
        "colab_type": "text"
      },
      "source": [
        "#### 2.3.1 Learning parameters using `scipy.optimize.minimize`\n",
        "\n",
        "Similar to the previous parts, you will use `optimize.minimize` to learn the optimal parameters $\\theta$. If you have completed the cost and gradient for regularized logistic regression (`costFunctionReg`) correctly, you should be able to step through the next part of to learn the parameters $\\theta$ using `optimize.minimize`."
      ]
    },
    {
      "cell_type": "markdown",
      "metadata": {
        "id": "-0EQtA1YkLi2",
        "colab_type": "text"
      },
      "source": [
        "### 2.4 Plotting the decision boundary\n",
        "\n",
        "To help you visualize the model learned by this classifier, we have provided the function `plotDecisionBoundary` which plots the (non-linear) decision boundary that separates the positive and negative examples. In `plotDecisionBoundary`, we plot the non-linear decision boundary by computing the classifier’s predictions on an evenly spaced grid and then and draw a contour plot where the predictions change from y = 0 to y = 1. "
      ]
    },
    {
      "cell_type": "markdown",
      "metadata": {
        "id": "106PgukgkLi3",
        "colab_type": "text"
      },
      "source": [
        "### 2.5 Optional (ungraded) exercises\n",
        "\n",
        "In this part of the exercise, you will get to try out different regularization parameters for the dataset to understand how regularization prevents overfitting.\n",
        "\n",
        "Notice the changes in the decision boundary as you vary $\\lambda$. With a small\n",
        "$\\lambda$, you should find that the classifier gets almost every training example correct, but draws a very complicated boundary, thus overfitting the data. See the following figures for the decision boundaries you should get for different values of $\\lambda$. \n",
        "\n",
        "<table>\n",
        "    <tr>\n",
        "        <td style=\"text-align:center\">\n",
        "            No regularization (overfitting)<img src=\"Figures/decision_boundary3.png\">\n",
        "        </td>        \n",
        "        <td style=\"text-align:center\">\n",
        "            Decision boundary with regularization\n",
        "            <img src=\"Figures/decision_boundary2.png\">\n",
        "        </td>\n",
        "        <td style=\"text-align:center\">\n",
        "            Decision boundary with too much regularization\n",
        "            <img src=\"Figures/decision_boundary4.png\">\n",
        "        </td>        \n",
        "    <tr>\n",
        "</table>\n",
        "\n",
        "This is not a good decision boundary: for example, it predicts that a point at $x = (−0.25, 1.5)$ is accepted $(y = 1)$, which seems to be an incorrect decision given the training set.\n",
        "With a larger $\\lambda$, you should see a plot that shows an simpler decision boundary which still separates the positives and negatives fairly well. However, if $\\lambda$ is set to too high a value, you will not get a good fit and the decision boundary will not follow the data so well, thus underfitting the data."
      ]
    },
    {
      "cell_type": "code",
      "metadata": {
        "id": "MJ7OmN8okLi5",
        "colab_type": "code",
        "colab": {
          "base_uri": "https://localhost:8080/",
          "height": 346
        },
        "outputId": "e6af757d-3583-42e5-b197-2eb0346e7d78"
      },
      "source": [
        "# Initialize fitting parameters\n",
        "initial_theta = np.zeros(X.shape[1])\n",
        "\n",
        "# Set regularization parameter lambda to 1 (you should vary this)\n",
        "lambda_ = 1\n",
        "\n",
        "# set options for optimize.minimize\n",
        "options= {'maxiter': 100}\n",
        "\n",
        "res = optimize.minimize(costFunctionReg,\n",
        "                        initial_theta,\n",
        "                        (X, y, lambda_),\n",
        "                        jac=True,\n",
        "                        method='TNC',\n",
        "                        options=options)\n",
        "\n",
        "# the fun property of OptimizeResult object returns\n",
        "# the value of costFunction at optimized theta\n",
        "cost = res.fun\n",
        "\n",
        "# the optimized theta is in the x property of the result\n",
        "theta = res.x\n",
        "# Plot Boundary\n",
        "def plotDecisionBoundary(plotData, theta, X, y):\n",
        "    \"\"\"\n",
        "    Plots the data points X and y into a new figure with the decision boundary defined by theta.\n",
        "    Plots the data points with * for the positive examples and o for  the negative examples.\n",
        "\n",
        "    Parameters\n",
        "    ----------\n",
        "    plotData : func\n",
        "        A function reference for plotting the X, y data.\n",
        "\n",
        "    theta : array_like\n",
        "        Parameters for logistic regression. A vector of shape (n+1, ).\n",
        "\n",
        "    X : array_like\n",
        "        The input dataset. X is assumed to be  a either:\n",
        "            1) Mx3 matrix, where the first column is an all ones column for the intercept.\n",
        "            2) MxN, N>3 matrix, where the first column is all ones.\n",
        "\n",
        "    y : array_like\n",
        "        Vector of data labels of shape (m, ).\n",
        "    \"\"\"\n",
        "    # make sure theta is a numpy array\n",
        "    theta = np.array(theta)\n",
        "\n",
        "    # Plot Data (remember first column in X is the intercept)\n",
        "    plotData(X[:, 1:3], y)\n",
        "\n",
        "    if X.shape[1] <= 3:\n",
        "        # Only need 2 points to define a line, so choose two endpoints\n",
        "        plot_x = np.array([np.min(X[:, 1]) - 2, np.max(X[:, 1]) + 2])\n",
        "\n",
        "        # Calculate the decision boundary line\n",
        "        plot_y = (-1. / theta[2]) * (theta[1] * plot_x + theta[0])\n",
        "\n",
        "        # Plot, and adjust axes for better viewing\n",
        "        pyplot.plot(plot_x, plot_y)\n",
        "\n",
        "        # Legend, specific for the exercise\n",
        "        pyplot.legend(['Admitted', 'Not admitted', 'Decision Boundary'])\n",
        "        pyplot.xlim([30, 100])\n",
        "        pyplot.ylim([30, 100])\n",
        "    else:\n",
        "        # Here is the grid range\n",
        "        u = np.linspace(-1, 1.5, 50)\n",
        "        v = np.linspace(-1, 1.5, 50)\n",
        "\n",
        "        z = np.zeros((u.size, v.size))\n",
        "        # Evaluate z = theta*x over the grid\n",
        "        for i, ui in enumerate(u):\n",
        "            for j, vj in enumerate(v):\n",
        "                z[i, j] = np.dot(mapFeature(ui, vj), theta)\n",
        "\n",
        "        z = z.T  # important to transpose z before calling contour\n",
        "        # print(z)\n",
        "\n",
        "        # Plot z = 0\n",
        "        pyplot.contour(u, v, z, levels=[0], linewidths=2, colors='g')\n",
        "        pyplot.contourf(u, v, z, levels=[np.min(z), 0, np.max(z)], cmap='Greens', alpha=0.4)\n",
        "\n",
        "\n",
        "plotDecisionBoundary(plotData, theta, X, y)\n",
        "    \n",
        "pyplot.xlabel('Microchip Test 1')\n",
        "pyplot.ylabel('Microchip Test 2')\n",
        "pyplot.legend(['y = 1', 'y = 0'])\n",
        "pyplot.grid(False)\n",
        "pyplot.title('lambda = %0.2f' % lambda_)\n",
        "\n",
        "# Compute accuracy on our training set\n",
        "p = predict(theta, X)\n",
        "\n",
        "print('Train Accuracy: %.1f %%' % (np.mean(p == y) * 100))\n",
        "print('Expected accuracy (with lambda = 1): 83.1 % (approx)\\n')\n"
      ],
      "execution_count": 115,
      "outputs": [
        {
          "output_type": "stream",
          "text": [
            "Train Accuracy: 49.4 %\n",
            "Expected accuracy (with lambda = 1): 83.1 % (approx)\n",
            "\n"
          ],
          "name": "stdout"
        },
        {
          "output_type": "display_data",
          "data": {
            "image/png": "[encoded data removed]",
            "text/plain": [
              "<Figure size 432x288 with 1 Axes>"
            ]
          },
          "metadata": {
            "tags": []
          }
        }
      ]
    },
    {
      "cell_type": "code",
      "metadata": {
        "id": "nxyWY0aye-8v",
        "colab_type": "code",
        "colab": {}
      },
      "source": [
        ""
      ],
      "execution_count": 0,
      "outputs": []
    }
  ]
}